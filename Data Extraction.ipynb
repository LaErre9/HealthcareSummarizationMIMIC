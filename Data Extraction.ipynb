{
 "cells": [
  {
   "attachments": {},
   "cell_type": "markdown",
   "metadata": {},
   "source": [
    "# Data Extraction"
   ]
  },
  {
   "attachments": {},
   "cell_type": "markdown",
   "metadata": {},
   "source": [
    "## Librerie utili"
   ]
  },
  {
   "cell_type": "code",
   "execution_count": 1,
   "metadata": {},
   "outputs": [],
   "source": [
    "import json\n",
    "import pandas as pd\n",
    "import seaborn as sns\n",
    "import matplotlib.pyplot as plt\n",
    "\n",
    "from pymongo import MongoClient"
   ]
  },
  {
   "attachments": {},
   "cell_type": "markdown",
   "metadata": {},
   "source": [
    "## Importo le secrets del progetto"
   ]
  },
  {
   "cell_type": "code",
   "execution_count": null,
   "metadata": {},
   "outputs": [],
   "source": [
    "with open(\"secrets.json\") as f:\n",
    "    secrets = json.load(f)\n",
    "    mongo_string = secrets[\"mongo_string\"]"
   ]
  },
  {
   "attachments": {},
   "cell_type": "markdown",
   "metadata": {},
   "source": [
    "## Lettura, Analisi ed Estrazione dei dati da NOTEEVENTS.csv"
   ]
  },
  {
   "attachments": {},
   "cell_type": "markdown",
   "metadata": {},
   "source": [
    "### Data Analysis"
   ]
  },
  {
   "cell_type": "code",
   "execution_count": 2,
   "metadata": {},
   "outputs": [],
   "source": [
    "# Set size and color for plots\n",
    "sns.reset_defaults()\n",
    "sns.set(\n",
    "    rc={'figure.figsize':(10,6)}, \n",
    "    style=\"white\"\n",
    ")"
   ]
  },
  {
   "cell_type": "code",
   "execution_count": 3,
   "metadata": {},
   "outputs": [
    {
     "name": "stderr",
     "output_type": "stream",
     "text": [
      "C:\\Users\\giuse\\AppData\\Local\\Temp\\ipykernel_16544\\2437473449.py:1: DtypeWarning: Columns (4,5) have mixed types. Specify dtype option on import or set low_memory=False.\n",
      "  df = pd.read_csv('NOTEEVENTS.csv', header=0)\n"
     ]
    }
   ],
   "source": [
    "df = pd.read_csv('NOTEEVENTS.csv', header=0)"
   ]
  },
  {
   "cell_type": "code",
   "execution_count": 4,
   "metadata": {},
   "outputs": [],
   "source": [
    "# Calcola la lunghezza dei caratteri per ciascuna riga nella colonna \"LEMMATIZED_TEXT\"\n",
    "df['TOKEN_COUNT'] = df['TEXT'].str.len() / 4"
   ]
  },
  {
   "cell_type": "code",
   "execution_count": 5,
   "metadata": {},
   "outputs": [
    {
     "name": "stdout",
     "output_type": "stream",
     "text": [
      "(2083180, 12)\n"
     ]
    },
    {
     "data": {
      "text/html": [
       "<div>\n",
       "<style scoped>\n",
       "    .dataframe tbody tr th:only-of-type {\n",
       "        vertical-align: middle;\n",
       "    }\n",
       "\n",
       "    .dataframe tbody tr th {\n",
       "        vertical-align: top;\n",
       "    }\n",
       "\n",
       "    .dataframe thead th {\n",
       "        text-align: right;\n",
       "    }\n",
       "</style>\n",
       "<table border=\"1\" class=\"dataframe\">\n",
       "  <thead>\n",
       "    <tr style=\"text-align: right;\">\n",
       "      <th></th>\n",
       "      <th>ROW_ID</th>\n",
       "      <th>SUBJECT_ID</th>\n",
       "      <th>HADM_ID</th>\n",
       "      <th>CHARTDATE</th>\n",
       "      <th>CHARTTIME</th>\n",
       "      <th>STORETIME</th>\n",
       "      <th>CATEGORY</th>\n",
       "      <th>DESCRIPTION</th>\n",
       "      <th>CGID</th>\n",
       "      <th>ISERROR</th>\n",
       "      <th>TEXT</th>\n",
       "      <th>TOKEN_COUNT</th>\n",
       "    </tr>\n",
       "  </thead>\n",
       "  <tbody>\n",
       "    <tr>\n",
       "      <th>0</th>\n",
       "      <td>174</td>\n",
       "      <td>22532</td>\n",
       "      <td>167853.0</td>\n",
       "      <td>2151-08-04</td>\n",
       "      <td>NaN</td>\n",
       "      <td>NaN</td>\n",
       "      <td>Discharge summary</td>\n",
       "      <td>Report</td>\n",
       "      <td>NaN</td>\n",
       "      <td>NaN</td>\n",
       "      <td>Admission Date:  [**2151-7-16**]       Dischar...</td>\n",
       "      <td>222.25</td>\n",
       "    </tr>\n",
       "    <tr>\n",
       "      <th>1</th>\n",
       "      <td>175</td>\n",
       "      <td>13702</td>\n",
       "      <td>107527.0</td>\n",
       "      <td>2118-06-14</td>\n",
       "      <td>NaN</td>\n",
       "      <td>NaN</td>\n",
       "      <td>Discharge summary</td>\n",
       "      <td>Report</td>\n",
       "      <td>NaN</td>\n",
       "      <td>NaN</td>\n",
       "      <td>Admission Date:  [**2118-6-2**]       Discharg...</td>\n",
       "      <td>3158.25</td>\n",
       "    </tr>\n",
       "    <tr>\n",
       "      <th>2</th>\n",
       "      <td>176</td>\n",
       "      <td>13702</td>\n",
       "      <td>167118.0</td>\n",
       "      <td>2119-05-25</td>\n",
       "      <td>NaN</td>\n",
       "      <td>NaN</td>\n",
       "      <td>Discharge summary</td>\n",
       "      <td>Report</td>\n",
       "      <td>NaN</td>\n",
       "      <td>NaN</td>\n",
       "      <td>Admission Date:  [**2119-5-4**]              D...</td>\n",
       "      <td>2434.00</td>\n",
       "    </tr>\n",
       "    <tr>\n",
       "      <th>3</th>\n",
       "      <td>177</td>\n",
       "      <td>13702</td>\n",
       "      <td>196489.0</td>\n",
       "      <td>2124-08-18</td>\n",
       "      <td>NaN</td>\n",
       "      <td>NaN</td>\n",
       "      <td>Discharge summary</td>\n",
       "      <td>Report</td>\n",
       "      <td>NaN</td>\n",
       "      <td>NaN</td>\n",
       "      <td>Admission Date:  [**2124-7-21**]              ...</td>\n",
       "      <td>4284.50</td>\n",
       "    </tr>\n",
       "    <tr>\n",
       "      <th>4</th>\n",
       "      <td>178</td>\n",
       "      <td>26880</td>\n",
       "      <td>135453.0</td>\n",
       "      <td>2162-03-25</td>\n",
       "      <td>NaN</td>\n",
       "      <td>NaN</td>\n",
       "      <td>Discharge summary</td>\n",
       "      <td>Report</td>\n",
       "      <td>NaN</td>\n",
       "      <td>NaN</td>\n",
       "      <td>Admission Date:  [**2162-3-3**]              D...</td>\n",
       "      <td>3624.75</td>\n",
       "    </tr>\n",
       "  </tbody>\n",
       "</table>\n",
       "</div>"
      ],
      "text/plain": [
       "   ROW_ID  SUBJECT_ID   HADM_ID   CHARTDATE CHARTTIME STORETIME  \\\n",
       "0     174       22532  167853.0  2151-08-04       NaN       NaN   \n",
       "1     175       13702  107527.0  2118-06-14       NaN       NaN   \n",
       "2     176       13702  167118.0  2119-05-25       NaN       NaN   \n",
       "3     177       13702  196489.0  2124-08-18       NaN       NaN   \n",
       "4     178       26880  135453.0  2162-03-25       NaN       NaN   \n",
       "\n",
       "            CATEGORY DESCRIPTION  CGID  ISERROR  \\\n",
       "0  Discharge summary      Report   NaN      NaN   \n",
       "1  Discharge summary      Report   NaN      NaN   \n",
       "2  Discharge summary      Report   NaN      NaN   \n",
       "3  Discharge summary      Report   NaN      NaN   \n",
       "4  Discharge summary      Report   NaN      NaN   \n",
       "\n",
       "                                                TEXT  TOKEN_COUNT  \n",
       "0  Admission Date:  [**2151-7-16**]       Dischar...       222.25  \n",
       "1  Admission Date:  [**2118-6-2**]       Discharg...      3158.25  \n",
       "2  Admission Date:  [**2119-5-4**]              D...      2434.00  \n",
       "3  Admission Date:  [**2124-7-21**]              ...      4284.50  \n",
       "4  Admission Date:  [**2162-3-3**]              D...      3624.75  "
      ]
     },
     "execution_count": 5,
     "metadata": {},
     "output_type": "execute_result"
    }
   ],
   "source": [
    "print(df.shape)\n",
    "df.head(5)"
   ]
  },
  {
   "cell_type": "code",
   "execution_count": 6,
   "metadata": {},
   "outputs": [
    {
     "data": {
      "image/png": "[encoded data removed]",
      "text/plain": [
       "<Figure size 1000x600 with 1 Axes>"
      ]
     },
     "metadata": {},
     "output_type": "display_data"
    }
   ],
   "source": [
    "plot = sns.countplot(x=df['CATEGORY'], order=df['CATEGORY'].value_counts().index)\n",
    "_ = plot.set_xticklabels(plot.get_xticklabels(), rotation=45, horizontalalignment='right')\n",
    "plt.xlabel('Categoria')\n",
    "plt.ylabel('Numero Documenti')\n",
    "plt.show()"
   ]
  },
  {
   "cell_type": "code",
   "execution_count": 7,
   "metadata": {},
   "outputs": [
    {
     "data": {
      "image/png": "[encoded data removed]",
      "text/plain": [
       "<Figure size 1000x600 with 1 Axes>"
      ]
     },
     "metadata": {},
     "output_type": "display_data"
    }
   ],
   "source": [
    "lns = [len(str(x)) for x in df['TEXT']]\n",
    "sns.histplot(lns, kde=False)\n",
    "plt.xlabel('Lunghezza Documenti')\n",
    "plt.ylabel('Numero Documenti')\n",
    "plt.show()"
   ]
  },
  {
   "cell_type": "code",
   "execution_count": 8,
   "metadata": {},
   "outputs": [
    {
     "data": {
      "image/png": "[encoded data removed]",
      "text/plain": [
       "<Figure size 1000x600 with 1 Axes>"
      ]
     },
     "metadata": {},
     "output_type": "display_data"
    }
   ],
   "source": [
    "sns.histplot(df['SUBJECT_ID'].value_counts().values, kde=False)\n",
    "plt.xlabel('Documenti per Paziente')\n",
    "plt.ylabel('Numero Documenti')\n",
    "plt.show()"
   ]
  },
  {
   "attachments": {},
   "cell_type": "markdown",
   "metadata": {},
   "source": [
    "### Extraction delle colonne scelte"
   ]
  },
  {
   "cell_type": "code",
   "execution_count": 9,
   "metadata": {},
   "outputs": [],
   "source": [
    "filtered_df = df.drop('HADM_ID', axis=1)\n",
    "filtered_df = filtered_df.drop('CHARTTIME', axis=1)\n",
    "filtered_df = filtered_df.drop('STORETIME', axis=1)\n",
    "filtered_df = filtered_df.drop('DESCRIPTION', axis=1)\n",
    "filtered_df = filtered_df.drop('CGID', axis=1)\n",
    "filtered_df = filtered_df[filtered_df['ISERROR'] != 1]\n",
    "filtered_df = filtered_df[filtered_df['CATEGORY'] == \"Discharge summary\"]"
   ]
  },
  {
   "cell_type": "code",
   "execution_count": 10,
   "metadata": {},
   "outputs": [],
   "source": [
    "filtered_df = filtered_df.drop('CATEGORY', axis=1)\n",
    "filtered_df = filtered_df.drop('ISERROR', axis=1)"
   ]
  },
  {
   "cell_type": "code",
   "execution_count": 11,
   "metadata": {},
   "outputs": [
    {
     "name": "stdout",
     "output_type": "stream",
     "text": [
      "(59652, 5)\n"
     ]
    },
    {
     "data": {
      "text/html": [
       "<div>\n",
       "<style scoped>\n",
       "    .dataframe tbody tr th:only-of-type {\n",
       "        vertical-align: middle;\n",
       "    }\n",
       "\n",
       "    .dataframe tbody tr th {\n",
       "        vertical-align: top;\n",
       "    }\n",
       "\n",
       "    .dataframe thead th {\n",
       "        text-align: right;\n",
       "    }\n",
       "</style>\n",
       "<table border=\"1\" class=\"dataframe\">\n",
       "  <thead>\n",
       "    <tr style=\"text-align: right;\">\n",
       "      <th></th>\n",
       "      <th>ROW_ID</th>\n",
       "      <th>SUBJECT_ID</th>\n",
       "      <th>CHARTDATE</th>\n",
       "      <th>TEXT</th>\n",
       "      <th>TOKEN_COUNT</th>\n",
       "    </tr>\n",
       "  </thead>\n",
       "  <tbody>\n",
       "    <tr>\n",
       "      <th>0</th>\n",
       "      <td>174</td>\n",
       "      <td>22532</td>\n",
       "      <td>2151-08-04</td>\n",
       "      <td>Admission Date:  [**2151-7-16**]       Dischar...</td>\n",
       "      <td>222.25</td>\n",
       "    </tr>\n",
       "    <tr>\n",
       "      <th>1</th>\n",
       "      <td>175</td>\n",
       "      <td>13702</td>\n",
       "      <td>2118-06-14</td>\n",
       "      <td>Admission Date:  [**2118-6-2**]       Discharg...</td>\n",
       "      <td>3158.25</td>\n",
       "    </tr>\n",
       "    <tr>\n",
       "      <th>2</th>\n",
       "      <td>176</td>\n",
       "      <td>13702</td>\n",
       "      <td>2119-05-25</td>\n",
       "      <td>Admission Date:  [**2119-5-4**]              D...</td>\n",
       "      <td>2434.00</td>\n",
       "    </tr>\n",
       "    <tr>\n",
       "      <th>3</th>\n",
       "      <td>177</td>\n",
       "      <td>13702</td>\n",
       "      <td>2124-08-18</td>\n",
       "      <td>Admission Date:  [**2124-7-21**]              ...</td>\n",
       "      <td>4284.50</td>\n",
       "    </tr>\n",
       "    <tr>\n",
       "      <th>4</th>\n",
       "      <td>178</td>\n",
       "      <td>26880</td>\n",
       "      <td>2162-03-25</td>\n",
       "      <td>Admission Date:  [**2162-3-3**]              D...</td>\n",
       "      <td>3624.75</td>\n",
       "    </tr>\n",
       "  </tbody>\n",
       "</table>\n",
       "</div>"
      ],
      "text/plain": [
       "   ROW_ID  SUBJECT_ID   CHARTDATE  \\\n",
       "0     174       22532  2151-08-04   \n",
       "1     175       13702  2118-06-14   \n",
       "2     176       13702  2119-05-25   \n",
       "3     177       13702  2124-08-18   \n",
       "4     178       26880  2162-03-25   \n",
       "\n",
       "                                                TEXT  TOKEN_COUNT  \n",
       "0  Admission Date:  [**2151-7-16**]       Dischar...       222.25  \n",
       "1  Admission Date:  [**2118-6-2**]       Discharg...      3158.25  \n",
       "2  Admission Date:  [**2119-5-4**]              D...      2434.00  \n",
       "3  Admission Date:  [**2124-7-21**]              ...      4284.50  \n",
       "4  Admission Date:  [**2162-3-3**]              D...      3624.75  "
      ]
     },
     "execution_count": 11,
     "metadata": {},
     "output_type": "execute_result"
    }
   ],
   "source": [
    "filtered_df['ROW_ID']=filtered_df['ROW_ID'].astype(int)\n",
    "print(filtered_df.shape)\n",
    "filtered_df.head(5)"
   ]
  },
  {
   "cell_type": "code",
   "execution_count": 12,
   "metadata": {},
   "outputs": [],
   "source": [
    "filtered_df = filtered_df.groupby('SUBJECT_ID').filter(lambda group: group['TOKEN_COUNT'].sum() <= 10000) \n",
    "filtered_df = filtered_df[filtered_df['TOKEN_COUNT'] >= 500]\n",
    "filtered_df = filtered_df.groupby('SUBJECT_ID').filter(lambda x: len(x) > 1)"
   ]
  },
  {
   "cell_type": "code",
   "execution_count": 13,
   "metadata": {},
   "outputs": [
    {
     "data": {
      "text/html": [
       "<div>\n",
       "<style scoped>\n",
       "    .dataframe tbody tr th:only-of-type {\n",
       "        vertical-align: middle;\n",
       "    }\n",
       "\n",
       "    .dataframe tbody tr th {\n",
       "        vertical-align: top;\n",
       "    }\n",
       "\n",
       "    .dataframe thead th {\n",
       "        text-align: right;\n",
       "    }\n",
       "</style>\n",
       "<table border=\"1\" class=\"dataframe\">\n",
       "  <thead>\n",
       "    <tr style=\"text-align: right;\">\n",
       "      <th></th>\n",
       "      <th>ROW_ID</th>\n",
       "      <th>SUBJECT_ID</th>\n",
       "      <th>CHARTDATE</th>\n",
       "      <th>TEXT</th>\n",
       "      <th>TOKEN_COUNT</th>\n",
       "    </tr>\n",
       "  </thead>\n",
       "  <tbody>\n",
       "    <tr>\n",
       "      <th>57445</th>\n",
       "      <td>57361</td>\n",
       "      <td>19541</td>\n",
       "      <td>2143-02-26</td>\n",
       "      <td>Name:  [**Known lastname 497**] JR,[**Known fi...</td>\n",
       "      <td>500.00</td>\n",
       "    </tr>\n",
       "    <tr>\n",
       "      <th>58015</th>\n",
       "      <td>57862</td>\n",
       "      <td>27090</td>\n",
       "      <td>2120-04-30</td>\n",
       "      <td>Name:  [**Known lastname 12543**],[**Known fir...</td>\n",
       "      <td>500.25</td>\n",
       "    </tr>\n",
       "    <tr>\n",
       "      <th>59058</th>\n",
       "      <td>58758</td>\n",
       "      <td>71054</td>\n",
       "      <td>2166-08-08</td>\n",
       "      <td>Name:  [**Known lastname 4175**], [**Known fir...</td>\n",
       "      <td>500.75</td>\n",
       "    </tr>\n",
       "    <tr>\n",
       "      <th>55149</th>\n",
       "      <td>55828</td>\n",
       "      <td>5495</td>\n",
       "      <td>2138-12-20</td>\n",
       "      <td>Name:  [**Last Name (LF) 4668**], [**Known fir...</td>\n",
       "      <td>500.75</td>\n",
       "    </tr>\n",
       "    <tr>\n",
       "      <th>27170</th>\n",
       "      <td>19414</td>\n",
       "      <td>10763</td>\n",
       "      <td>2108-12-12</td>\n",
       "      <td>Admission Date:  [**2108-12-2**]       Dischar...</td>\n",
       "      <td>500.75</td>\n",
       "    </tr>\n",
       "    <tr>\n",
       "      <th>58465</th>\n",
       "      <td>58289</td>\n",
       "      <td>54623</td>\n",
       "      <td>2143-09-12</td>\n",
       "      <td>Name:  [**Known lastname 13799**],[**Known fir...</td>\n",
       "      <td>500.75</td>\n",
       "    </tr>\n",
       "    <tr>\n",
       "      <th>55102</th>\n",
       "      <td>56078</td>\n",
       "      <td>9137</td>\n",
       "      <td>2147-04-27</td>\n",
       "      <td>Name:  [**Known lastname **], [**Known firstna...</td>\n",
       "      <td>501.00</td>\n",
       "    </tr>\n",
       "    <tr>\n",
       "      <th>55101</th>\n",
       "      <td>56077</td>\n",
       "      <td>16552</td>\n",
       "      <td>2195-03-18</td>\n",
       "      <td>Name:  [**Known lastname 5786**], [**Known fir...</td>\n",
       "      <td>501.00</td>\n",
       "    </tr>\n",
       "    <tr>\n",
       "      <th>11201</th>\n",
       "      <td>9326</td>\n",
       "      <td>21321</td>\n",
       "      <td>2119-01-19</td>\n",
       "      <td>Admission Date: [**2119-1-4**]       Discharge...</td>\n",
       "      <td>501.50</td>\n",
       "    </tr>\n",
       "    <tr>\n",
       "      <th>57731</th>\n",
       "      <td>58003</td>\n",
       "      <td>85986</td>\n",
       "      <td>2163-03-26</td>\n",
       "      <td>Name:  [**Known lastname **],[**Known firstnam...</td>\n",
       "      <td>501.75</td>\n",
       "    </tr>\n",
       "  </tbody>\n",
       "</table>\n",
       "</div>"
      ],
      "text/plain": [
       "       ROW_ID  SUBJECT_ID   CHARTDATE  \\\n",
       "57445   57361       19541  2143-02-26   \n",
       "58015   57862       27090  2120-04-30   \n",
       "59058   58758       71054  2166-08-08   \n",
       "55149   55828        5495  2138-12-20   \n",
       "27170   19414       10763  2108-12-12   \n",
       "58465   58289       54623  2143-09-12   \n",
       "55102   56078        9137  2147-04-27   \n",
       "55101   56077       16552  2195-03-18   \n",
       "11201    9326       21321  2119-01-19   \n",
       "57731   58003       85986  2163-03-26   \n",
       "\n",
       "                                                    TEXT  TOKEN_COUNT  \n",
       "57445  Name:  [**Known lastname 497**] JR,[**Known fi...       500.00  \n",
       "58015  Name:  [**Known lastname 12543**],[**Known fir...       500.25  \n",
       "59058  Name:  [**Known lastname 4175**], [**Known fir...       500.75  \n",
       "55149  Name:  [**Last Name (LF) 4668**], [**Known fir...       500.75  \n",
       "27170  Admission Date:  [**2108-12-2**]       Dischar...       500.75  \n",
       "58465  Name:  [**Known lastname 13799**],[**Known fir...       500.75  \n",
       "55102  Name:  [**Known lastname **], [**Known firstna...       501.00  \n",
       "55101  Name:  [**Known lastname 5786**], [**Known fir...       501.00  \n",
       "11201  Admission Date: [**2119-1-4**]       Discharge...       501.50  \n",
       "57731  Name:  [**Known lastname **],[**Known firstnam...       501.75  "
      ]
     },
     "execution_count": 13,
     "metadata": {},
     "output_type": "execute_result"
    }
   ],
   "source": [
    "filtered_df.sort_values('TOKEN_COUNT').head(10)"
   ]
  },
  {
   "cell_type": "code",
   "execution_count": 14,
   "metadata": {},
   "outputs": [
    {
     "data": {
      "text/html": [
       "<div>\n",
       "<style scoped>\n",
       "    .dataframe tbody tr th:only-of-type {\n",
       "        vertical-align: middle;\n",
       "    }\n",
       "\n",
       "    .dataframe tbody tr th {\n",
       "        vertical-align: top;\n",
       "    }\n",
       "\n",
       "    .dataframe thead th {\n",
       "        text-align: right;\n",
       "    }\n",
       "</style>\n",
       "<table border=\"1\" class=\"dataframe\">\n",
       "  <thead>\n",
       "    <tr style=\"text-align: right;\">\n",
       "      <th></th>\n",
       "      <th>ROW_ID</th>\n",
       "      <th>SUBJECT_ID</th>\n",
       "      <th>CHARTDATE</th>\n",
       "      <th>TEXT</th>\n",
       "      <th>TOKEN_COUNT</th>\n",
       "    </tr>\n",
       "  </thead>\n",
       "  <tbody>\n",
       "    <tr>\n",
       "      <th>4990</th>\n",
       "      <td>4986</td>\n",
       "      <td>1422</td>\n",
       "      <td>2140-08-05</td>\n",
       "      <td>Name:  [**Known lastname **], [**Known firstna...</td>\n",
       "      <td>2114.50</td>\n",
       "    </tr>\n",
       "    <tr>\n",
       "      <th>4991</th>\n",
       "      <td>4987</td>\n",
       "      <td>1422</td>\n",
       "      <td>2140-08-05</td>\n",
       "      <td>Name:  [**Known lastname **], [**Known firstna...</td>\n",
       "      <td>2147.50</td>\n",
       "    </tr>\n",
       "    <tr>\n",
       "      <th>45578</th>\n",
       "      <td>52518</td>\n",
       "      <td>12009</td>\n",
       "      <td>2175-01-06</td>\n",
       "      <td>Name:  [**Known lastname **] [**Known lastname...</td>\n",
       "      <td>894.50</td>\n",
       "    </tr>\n",
       "    <tr>\n",
       "      <th>50909</th>\n",
       "      <td>55417</td>\n",
       "      <td>48687</td>\n",
       "      <td>2170-01-03</td>\n",
       "      <td>Name:  [**Known lastname 2152**],[**Known firs...</td>\n",
       "      <td>840.00</td>\n",
       "    </tr>\n",
       "    <tr>\n",
       "      <th>50910</th>\n",
       "      <td>55418</td>\n",
       "      <td>26483</td>\n",
       "      <td>2160-04-04</td>\n",
       "      <td>Name:  [**Known lastname 1193**], [**Known fir...</td>\n",
       "      <td>915.25</td>\n",
       "    </tr>\n",
       "    <tr>\n",
       "      <th>50940</th>\n",
       "      <td>55203</td>\n",
       "      <td>5039</td>\n",
       "      <td>2130-12-08</td>\n",
       "      <td>Name:  [**Known lastname 299**], [**Known firs...</td>\n",
       "      <td>615.25</td>\n",
       "    </tr>\n",
       "    <tr>\n",
       "      <th>50941</th>\n",
       "      <td>55204</td>\n",
       "      <td>14787</td>\n",
       "      <td>2114-08-06</td>\n",
       "      <td>Name:  [**Known lastname 316**],[**Known first...</td>\n",
       "      <td>566.50</td>\n",
       "    </tr>\n",
       "    <tr>\n",
       "      <th>50942</th>\n",
       "      <td>55205</td>\n",
       "      <td>80986</td>\n",
       "      <td>2147-11-24</td>\n",
       "      <td>Name:  [**Known lastname 329**],[**Known first...</td>\n",
       "      <td>812.75</td>\n",
       "    </tr>\n",
       "    <tr>\n",
       "      <th>50946</th>\n",
       "      <td>55539</td>\n",
       "      <td>6713</td>\n",
       "      <td>2140-09-13</td>\n",
       "      <td>Name:  [**Known lastname 2862**], [**Known fir...</td>\n",
       "      <td>749.00</td>\n",
       "    </tr>\n",
       "    <tr>\n",
       "      <th>51037</th>\n",
       "      <td>55249</td>\n",
       "      <td>13867</td>\n",
       "      <td>2195-11-14</td>\n",
       "      <td>Name:  [**Known lastname 400**],[**Known first...</td>\n",
       "      <td>4585.75</td>\n",
       "    </tr>\n",
       "  </tbody>\n",
       "</table>\n",
       "</div>"
      ],
      "text/plain": [
       "       ROW_ID  SUBJECT_ID   CHARTDATE  \\\n",
       "4990     4986        1422  2140-08-05   \n",
       "4991     4987        1422  2140-08-05   \n",
       "45578   52518       12009  2175-01-06   \n",
       "50909   55417       48687  2170-01-03   \n",
       "50910   55418       26483  2160-04-04   \n",
       "50940   55203        5039  2130-12-08   \n",
       "50941   55204       14787  2114-08-06   \n",
       "50942   55205       80986  2147-11-24   \n",
       "50946   55539        6713  2140-09-13   \n",
       "51037   55249       13867  2195-11-14   \n",
       "\n",
       "                                                    TEXT  TOKEN_COUNT  \n",
       "4990   Name:  [**Known lastname **], [**Known firstna...      2114.50  \n",
       "4991   Name:  [**Known lastname **], [**Known firstna...      2147.50  \n",
       "45578  Name:  [**Known lastname **] [**Known lastname...       894.50  \n",
       "50909  Name:  [**Known lastname 2152**],[**Known firs...       840.00  \n",
       "50910  Name:  [**Known lastname 1193**], [**Known fir...       915.25  \n",
       "50940  Name:  [**Known lastname 299**], [**Known firs...       615.25  \n",
       "50941  Name:  [**Known lastname 316**],[**Known first...       566.50  \n",
       "50942  Name:  [**Known lastname 329**],[**Known first...       812.75  \n",
       "50946  Name:  [**Known lastname 2862**], [**Known fir...       749.00  \n",
       "51037  Name:  [**Known lastname 400**],[**Known first...      4585.75  "
      ]
     },
     "execution_count": 14,
     "metadata": {},
     "output_type": "execute_result"
    }
   ],
   "source": [
    "filtered_df[filtered_df[\"TEXT\"].str.startswith(\"Name\")].head(10)"
   ]
  },
  {
   "cell_type": "code",
   "execution_count": 15,
   "metadata": {},
   "outputs": [
    {
     "data": {
      "image/png": "[encoded data removed]",
      "text/plain": [
       "<Figure size 1000x600 with 1 Axes>"
      ]
     },
     "metadata": {},
     "output_type": "display_data"
    }
   ],
   "source": [
    "lns = [len(str(x)) for x in filtered_df['TEXT']]\n",
    "sns.histplot(lns, kde=False)\n",
    "plt.xlabel('Lunghezza Documenti')\n",
    "plt.ylabel('Numero Documenti')\n",
    "plt.show()"
   ]
  },
  {
   "cell_type": "code",
   "execution_count": 16,
   "metadata": {},
   "outputs": [
    {
     "data": {
      "image/png": "[encoded data removed]",
      "text/plain": [
       "<Figure size 1000x600 with 1 Axes>"
      ]
     },
     "metadata": {},
     "output_type": "display_data"
    }
   ],
   "source": [
    "sns.histplot(filtered_df['SUBJECT_ID'].value_counts().values, kde=False)\n",
    "plt.xlabel('Documenti per Paziente')\n",
    "plt.ylabel('Numero Documenti')\n",
    "plt.show()"
   ]
  },
  {
   "cell_type": "code",
   "execution_count": 17,
   "metadata": {},
   "outputs": [
    {
     "data": {
      "text/plain": [
       "ROW_ID         16173\n",
       "SUBJECT_ID      7094\n",
       "CHARTDATE      12285\n",
       "TEXT           16120\n",
       "TOKEN_COUNT    10139\n",
       "dtype: int64"
      ]
     },
     "execution_count": 17,
     "metadata": {},
     "output_type": "execute_result"
    }
   ],
   "source": [
    "filtered_df.nunique()"
   ]
  },
  {
   "cell_type": "code",
   "execution_count": 18,
   "metadata": {},
   "outputs": [
    {
     "name": "stdout",
     "output_type": "stream",
     "text": [
      "(16120, 5)\n"
     ]
    },
    {
     "data": {
      "text/plain": [
       "ROW_ID         16120\n",
       "SUBJECT_ID      7094\n",
       "CHARTDATE      12285\n",
       "TEXT           16120\n",
       "TOKEN_COUNT    10139\n",
       "dtype: int64"
      ]
     },
     "execution_count": 18,
     "metadata": {},
     "output_type": "execute_result"
    }
   ],
   "source": [
    "filtered_df.drop_duplicates(subset='TEXT', inplace=True)\n",
    "print(filtered_df.shape)\n",
    "filtered_df.nunique()"
   ]
  },
  {
   "cell_type": "code",
   "execution_count": 19,
   "metadata": {},
   "outputs": [],
   "source": [
    "filtered_df = filtered_df.drop('TOKEN_COUNT', axis=1)"
   ]
  },
  {
   "cell_type": "code",
   "execution_count": 20,
   "metadata": {},
   "outputs": [
    {
     "data": {
      "text/html": [
       "<div>\n",
       "<style scoped>\n",
       "    .dataframe tbody tr th:only-of-type {\n",
       "        vertical-align: middle;\n",
       "    }\n",
       "\n",
       "    .dataframe tbody tr th {\n",
       "        vertical-align: top;\n",
       "    }\n",
       "\n",
       "    .dataframe thead th {\n",
       "        text-align: right;\n",
       "    }\n",
       "</style>\n",
       "<table border=\"1\" class=\"dataframe\">\n",
       "  <thead>\n",
       "    <tr style=\"text-align: right;\">\n",
       "      <th></th>\n",
       "      <th>ROW_ID</th>\n",
       "      <th>SUBJECT_ID</th>\n",
       "      <th>CHARTDATE</th>\n",
       "      <th>TEXT</th>\n",
       "    </tr>\n",
       "  </thead>\n",
       "  <tbody>\n",
       "    <tr>\n",
       "      <th>1</th>\n",
       "      <td>175</td>\n",
       "      <td>13702</td>\n",
       "      <td>2118-06-14</td>\n",
       "      <td>Admission Date:  [**2118-6-2**]       Discharg...</td>\n",
       "    </tr>\n",
       "    <tr>\n",
       "      <th>2</th>\n",
       "      <td>176</td>\n",
       "      <td>13702</td>\n",
       "      <td>2119-05-25</td>\n",
       "      <td>Admission Date:  [**2119-5-4**]              D...</td>\n",
       "    </tr>\n",
       "    <tr>\n",
       "      <th>3</th>\n",
       "      <td>177</td>\n",
       "      <td>13702</td>\n",
       "      <td>2124-08-18</td>\n",
       "      <td>Admission Date:  [**2124-7-21**]              ...</td>\n",
       "    </tr>\n",
       "    <tr>\n",
       "      <th>8</th>\n",
       "      <td>182</td>\n",
       "      <td>56174</td>\n",
       "      <td>2118-08-12</td>\n",
       "      <td>Admission Date:  [**2118-8-10**]              ...</td>\n",
       "    </tr>\n",
       "    <tr>\n",
       "      <th>9</th>\n",
       "      <td>183</td>\n",
       "      <td>56174</td>\n",
       "      <td>2118-12-09</td>\n",
       "      <td>Admission Date:  [**2118-12-7**]              ...</td>\n",
       "    </tr>\n",
       "    <tr>\n",
       "      <th>...</th>\n",
       "      <td>...</td>\n",
       "      <td>...</td>\n",
       "      <td>...</td>\n",
       "      <td>...</td>\n",
       "    </tr>\n",
       "    <tr>\n",
       "      <th>60203</th>\n",
       "      <td>59614</td>\n",
       "      <td>19405</td>\n",
       "      <td>2125-07-08</td>\n",
       "      <td>Name:  [**Known lastname 18335**], [**Known fi...</td>\n",
       "    </tr>\n",
       "    <tr>\n",
       "      <th>60288</th>\n",
       "      <td>59647</td>\n",
       "      <td>67717</td>\n",
       "      <td>2201-07-03</td>\n",
       "      <td>Name:  [**Known lastname 5559**],[**Known firs...</td>\n",
       "    </tr>\n",
       "    <tr>\n",
       "      <th>60388</th>\n",
       "      <td>59651</td>\n",
       "      <td>49879</td>\n",
       "      <td>2125-08-17</td>\n",
       "      <td>Name:  [**Known lastname 18448**],[**Known fir...</td>\n",
       "    </tr>\n",
       "    <tr>\n",
       "      <th>60411</th>\n",
       "      <td>59608</td>\n",
       "      <td>93924</td>\n",
       "      <td>2104-06-14</td>\n",
       "      <td>Name:  [**Known lastname 18321**],[**Known fir...</td>\n",
       "    </tr>\n",
       "    <tr>\n",
       "      <th>60414</th>\n",
       "      <td>59622</td>\n",
       "      <td>66717</td>\n",
       "      <td>2129-08-14</td>\n",
       "      <td>Name:  [**Known lastname **],[**Known firstnam...</td>\n",
       "    </tr>\n",
       "  </tbody>\n",
       "</table>\n",
       "<p>16120 rows × 4 columns</p>\n",
       "</div>"
      ],
      "text/plain": [
       "       ROW_ID  SUBJECT_ID   CHARTDATE  \\\n",
       "1         175       13702  2118-06-14   \n",
       "2         176       13702  2119-05-25   \n",
       "3         177       13702  2124-08-18   \n",
       "8         182       56174  2118-08-12   \n",
       "9         183       56174  2118-12-09   \n",
       "...       ...         ...         ...   \n",
       "60203   59614       19405  2125-07-08   \n",
       "60288   59647       67717  2201-07-03   \n",
       "60388   59651       49879  2125-08-17   \n",
       "60411   59608       93924  2104-06-14   \n",
       "60414   59622       66717  2129-08-14   \n",
       "\n",
       "                                                    TEXT  \n",
       "1      Admission Date:  [**2118-6-2**]       Discharg...  \n",
       "2      Admission Date:  [**2119-5-4**]              D...  \n",
       "3      Admission Date:  [**2124-7-21**]              ...  \n",
       "8      Admission Date:  [**2118-8-10**]              ...  \n",
       "9      Admission Date:  [**2118-12-7**]              ...  \n",
       "...                                                  ...  \n",
       "60203  Name:  [**Known lastname 18335**], [**Known fi...  \n",
       "60288  Name:  [**Known lastname 5559**],[**Known firs...  \n",
       "60388  Name:  [**Known lastname 18448**],[**Known fir...  \n",
       "60411  Name:  [**Known lastname 18321**],[**Known fir...  \n",
       "60414  Name:  [**Known lastname **],[**Known firstnam...  \n",
       "\n",
       "[16120 rows x 4 columns]"
      ]
     },
     "execution_count": 20,
     "metadata": {},
     "output_type": "execute_result"
    }
   ],
   "source": [
    "filtered_df"
   ]
  },
  {
   "attachments": {},
   "cell_type": "markdown",
   "metadata": {},
   "source": [
    "## Leggo il CSV dei pazienti"
   ]
  },
  {
   "cell_type": "code",
   "execution_count": 21,
   "metadata": {},
   "outputs": [],
   "source": [
    "patient_df = pd.read_csv('PATIENTS.csv', header=0)"
   ]
  },
  {
   "cell_type": "code",
   "execution_count": 22,
   "metadata": {},
   "outputs": [
    {
     "name": "stdout",
     "output_type": "stream",
     "text": [
      "(46520, 8)\n"
     ]
    },
    {
     "data": {
      "text/html": [
       "<div>\n",
       "<style scoped>\n",
       "    .dataframe tbody tr th:only-of-type {\n",
       "        vertical-align: middle;\n",
       "    }\n",
       "\n",
       "    .dataframe tbody tr th {\n",
       "        vertical-align: top;\n",
       "    }\n",
       "\n",
       "    .dataframe thead th {\n",
       "        text-align: right;\n",
       "    }\n",
       "</style>\n",
       "<table border=\"1\" class=\"dataframe\">\n",
       "  <thead>\n",
       "    <tr style=\"text-align: right;\">\n",
       "      <th></th>\n",
       "      <th>ROW_ID</th>\n",
       "      <th>SUBJECT_ID</th>\n",
       "      <th>GENDER</th>\n",
       "      <th>DOB</th>\n",
       "      <th>DOD</th>\n",
       "      <th>DOD_HOSP</th>\n",
       "      <th>DOD_SSN</th>\n",
       "      <th>EXPIRE_FLAG</th>\n",
       "    </tr>\n",
       "  </thead>\n",
       "  <tbody>\n",
       "    <tr>\n",
       "      <th>0</th>\n",
       "      <td>234</td>\n",
       "      <td>249</td>\n",
       "      <td>F</td>\n",
       "      <td>2075-03-13 00:00:00</td>\n",
       "      <td>NaN</td>\n",
       "      <td>NaN</td>\n",
       "      <td>NaN</td>\n",
       "      <td>0</td>\n",
       "    </tr>\n",
       "    <tr>\n",
       "      <th>1</th>\n",
       "      <td>235</td>\n",
       "      <td>250</td>\n",
       "      <td>F</td>\n",
       "      <td>2164-12-27 00:00:00</td>\n",
       "      <td>2188-11-22 00:00:00</td>\n",
       "      <td>2188-11-22 00:00:00</td>\n",
       "      <td>NaN</td>\n",
       "      <td>1</td>\n",
       "    </tr>\n",
       "    <tr>\n",
       "      <th>2</th>\n",
       "      <td>236</td>\n",
       "      <td>251</td>\n",
       "      <td>M</td>\n",
       "      <td>2090-03-15 00:00:00</td>\n",
       "      <td>NaN</td>\n",
       "      <td>NaN</td>\n",
       "      <td>NaN</td>\n",
       "      <td>0</td>\n",
       "    </tr>\n",
       "    <tr>\n",
       "      <th>3</th>\n",
       "      <td>237</td>\n",
       "      <td>252</td>\n",
       "      <td>M</td>\n",
       "      <td>2078-03-06 00:00:00</td>\n",
       "      <td>NaN</td>\n",
       "      <td>NaN</td>\n",
       "      <td>NaN</td>\n",
       "      <td>0</td>\n",
       "    </tr>\n",
       "    <tr>\n",
       "      <th>4</th>\n",
       "      <td>238</td>\n",
       "      <td>253</td>\n",
       "      <td>F</td>\n",
       "      <td>2089-11-26 00:00:00</td>\n",
       "      <td>NaN</td>\n",
       "      <td>NaN</td>\n",
       "      <td>NaN</td>\n",
       "      <td>0</td>\n",
       "    </tr>\n",
       "  </tbody>\n",
       "</table>\n",
       "</div>"
      ],
      "text/plain": [
       "   ROW_ID  SUBJECT_ID GENDER                  DOB                  DOD  \\\n",
       "0     234         249      F  2075-03-13 00:00:00                  NaN   \n",
       "1     235         250      F  2164-12-27 00:00:00  2188-11-22 00:00:00   \n",
       "2     236         251      M  2090-03-15 00:00:00                  NaN   \n",
       "3     237         252      M  2078-03-06 00:00:00                  NaN   \n",
       "4     238         253      F  2089-11-26 00:00:00                  NaN   \n",
       "\n",
       "              DOD_HOSP DOD_SSN  EXPIRE_FLAG  \n",
       "0                  NaN     NaN            0  \n",
       "1  2188-11-22 00:00:00     NaN            1  \n",
       "2                  NaN     NaN            0  \n",
       "3                  NaN     NaN            0  \n",
       "4                  NaN     NaN            0  "
      ]
     },
     "execution_count": 22,
     "metadata": {},
     "output_type": "execute_result"
    }
   ],
   "source": [
    "print(patient_df.shape)\n",
    "patient_df.head(5)"
   ]
  },
  {
   "attachments": {},
   "cell_type": "markdown",
   "metadata": {},
   "source": [
    "### Seleziono solo le colonne d'interesse"
   ]
  },
  {
   "cell_type": "code",
   "execution_count": 23,
   "metadata": {},
   "outputs": [],
   "source": [
    "patient_filtered_df = patient_df.drop('ROW_ID', axis=1)\n",
    "patient_filtered_df = patient_filtered_df.drop('DOD_HOSP', axis=1)\n",
    "patient_filtered_df = patient_filtered_df.drop('DOD_SSN', axis=1)"
   ]
  },
  {
   "cell_type": "code",
   "execution_count": 24,
   "metadata": {},
   "outputs": [
    {
     "name": "stdout",
     "output_type": "stream",
     "text": [
      "(46520, 5)\n"
     ]
    },
    {
     "data": {
      "text/html": [
       "<div>\n",
       "<style scoped>\n",
       "    .dataframe tbody tr th:only-of-type {\n",
       "        vertical-align: middle;\n",
       "    }\n",
       "\n",
       "    .dataframe tbody tr th {\n",
       "        vertical-align: top;\n",
       "    }\n",
       "\n",
       "    .dataframe thead th {\n",
       "        text-align: right;\n",
       "    }\n",
       "</style>\n",
       "<table border=\"1\" class=\"dataframe\">\n",
       "  <thead>\n",
       "    <tr style=\"text-align: right;\">\n",
       "      <th></th>\n",
       "      <th>SUBJECT_ID</th>\n",
       "      <th>GENDER</th>\n",
       "      <th>DOB</th>\n",
       "      <th>DOD</th>\n",
       "      <th>EXPIRE_FLAG</th>\n",
       "    </tr>\n",
       "  </thead>\n",
       "  <tbody>\n",
       "    <tr>\n",
       "      <th>0</th>\n",
       "      <td>249</td>\n",
       "      <td>F</td>\n",
       "      <td>2075-03-13 00:00:00</td>\n",
       "      <td>NaN</td>\n",
       "      <td>0</td>\n",
       "    </tr>\n",
       "    <tr>\n",
       "      <th>1</th>\n",
       "      <td>250</td>\n",
       "      <td>F</td>\n",
       "      <td>2164-12-27 00:00:00</td>\n",
       "      <td>2188-11-22 00:00:00</td>\n",
       "      <td>1</td>\n",
       "    </tr>\n",
       "    <tr>\n",
       "      <th>2</th>\n",
       "      <td>251</td>\n",
       "      <td>M</td>\n",
       "      <td>2090-03-15 00:00:00</td>\n",
       "      <td>NaN</td>\n",
       "      <td>0</td>\n",
       "    </tr>\n",
       "    <tr>\n",
       "      <th>3</th>\n",
       "      <td>252</td>\n",
       "      <td>M</td>\n",
       "      <td>2078-03-06 00:00:00</td>\n",
       "      <td>NaN</td>\n",
       "      <td>0</td>\n",
       "    </tr>\n",
       "    <tr>\n",
       "      <th>4</th>\n",
       "      <td>253</td>\n",
       "      <td>F</td>\n",
       "      <td>2089-11-26 00:00:00</td>\n",
       "      <td>NaN</td>\n",
       "      <td>0</td>\n",
       "    </tr>\n",
       "  </tbody>\n",
       "</table>\n",
       "</div>"
      ],
      "text/plain": [
       "   SUBJECT_ID GENDER                  DOB                  DOD  EXPIRE_FLAG\n",
       "0         249      F  2075-03-13 00:00:00                  NaN            0\n",
       "1         250      F  2164-12-27 00:00:00  2188-11-22 00:00:00            1\n",
       "2         251      M  2090-03-15 00:00:00                  NaN            0\n",
       "3         252      M  2078-03-06 00:00:00                  NaN            0\n",
       "4         253      F  2089-11-26 00:00:00                  NaN            0"
      ]
     },
     "execution_count": 24,
     "metadata": {},
     "output_type": "execute_result"
    }
   ],
   "source": [
    "print(patient_filtered_df.shape)\n",
    "patient_filtered_df.head(5)"
   ]
  },
  {
   "attachments": {},
   "cell_type": "markdown",
   "metadata": {},
   "source": [
    "## Unisco il NOTEEVENTS filtrato con i dati dei pazienti"
   ]
  },
  {
   "cell_type": "code",
   "execution_count": 26,
   "metadata": {},
   "outputs": [],
   "source": [
    "total_df = pd.merge(filtered_df, patient_filtered_df, on='SUBJECT_ID', how='inner')"
   ]
  },
  {
   "cell_type": "code",
   "execution_count": 27,
   "metadata": {},
   "outputs": [
    {
     "name": "stdout",
     "output_type": "stream",
     "text": [
      "(16120, 8)\n"
     ]
    },
    {
     "data": {
      "text/html": [
       "<div>\n",
       "<style scoped>\n",
       "    .dataframe tbody tr th:only-of-type {\n",
       "        vertical-align: middle;\n",
       "    }\n",
       "\n",
       "    .dataframe tbody tr th {\n",
       "        vertical-align: top;\n",
       "    }\n",
       "\n",
       "    .dataframe thead th {\n",
       "        text-align: right;\n",
       "    }\n",
       "</style>\n",
       "<table border=\"1\" class=\"dataframe\">\n",
       "  <thead>\n",
       "    <tr style=\"text-align: right;\">\n",
       "      <th></th>\n",
       "      <th>ROW_ID</th>\n",
       "      <th>SUBJECT_ID</th>\n",
       "      <th>CHARTDATE</th>\n",
       "      <th>TEXT</th>\n",
       "      <th>GENDER</th>\n",
       "      <th>DOB</th>\n",
       "      <th>DOD</th>\n",
       "      <th>EXPIRE_FLAG</th>\n",
       "    </tr>\n",
       "  </thead>\n",
       "  <tbody>\n",
       "    <tr>\n",
       "      <th>0</th>\n",
       "      <td>175</td>\n",
       "      <td>13702</td>\n",
       "      <td>2118-06-14</td>\n",
       "      <td>Admission Date:  [**2118-6-2**]       Discharg...</td>\n",
       "      <td>F</td>\n",
       "      <td>2037-05-03 00:00:00</td>\n",
       "      <td>2126-10-06 00:00:00</td>\n",
       "      <td>1</td>\n",
       "    </tr>\n",
       "    <tr>\n",
       "      <th>1</th>\n",
       "      <td>176</td>\n",
       "      <td>13702</td>\n",
       "      <td>2119-05-25</td>\n",
       "      <td>Admission Date:  [**2119-5-4**]              D...</td>\n",
       "      <td>F</td>\n",
       "      <td>2037-05-03 00:00:00</td>\n",
       "      <td>2126-10-06 00:00:00</td>\n",
       "      <td>1</td>\n",
       "    </tr>\n",
       "    <tr>\n",
       "      <th>2</th>\n",
       "      <td>177</td>\n",
       "      <td>13702</td>\n",
       "      <td>2124-08-18</td>\n",
       "      <td>Admission Date:  [**2124-7-21**]              ...</td>\n",
       "      <td>F</td>\n",
       "      <td>2037-05-03 00:00:00</td>\n",
       "      <td>2126-10-06 00:00:00</td>\n",
       "      <td>1</td>\n",
       "    </tr>\n",
       "    <tr>\n",
       "      <th>3</th>\n",
       "      <td>182</td>\n",
       "      <td>56174</td>\n",
       "      <td>2118-08-12</td>\n",
       "      <td>Admission Date:  [**2118-8-10**]              ...</td>\n",
       "      <td>F</td>\n",
       "      <td>2073-12-25 00:00:00</td>\n",
       "      <td>NaN</td>\n",
       "      <td>0</td>\n",
       "    </tr>\n",
       "    <tr>\n",
       "      <th>4</th>\n",
       "      <td>183</td>\n",
       "      <td>56174</td>\n",
       "      <td>2118-12-09</td>\n",
       "      <td>Admission Date:  [**2118-12-7**]              ...</td>\n",
       "      <td>F</td>\n",
       "      <td>2073-12-25 00:00:00</td>\n",
       "      <td>NaN</td>\n",
       "      <td>0</td>\n",
       "    </tr>\n",
       "  </tbody>\n",
       "</table>\n",
       "</div>"
      ],
      "text/plain": [
       "   ROW_ID  SUBJECT_ID   CHARTDATE  \\\n",
       "0     175       13702  2118-06-14   \n",
       "1     176       13702  2119-05-25   \n",
       "2     177       13702  2124-08-18   \n",
       "3     182       56174  2118-08-12   \n",
       "4     183       56174  2118-12-09   \n",
       "\n",
       "                                                TEXT GENDER  \\\n",
       "0  Admission Date:  [**2118-6-2**]       Discharg...      F   \n",
       "1  Admission Date:  [**2119-5-4**]              D...      F   \n",
       "2  Admission Date:  [**2124-7-21**]              ...      F   \n",
       "3  Admission Date:  [**2118-8-10**]              ...      F   \n",
       "4  Admission Date:  [**2118-12-7**]              ...      F   \n",
       "\n",
       "                   DOB                  DOD  EXPIRE_FLAG  \n",
       "0  2037-05-03 00:00:00  2126-10-06 00:00:00            1  \n",
       "1  2037-05-03 00:00:00  2126-10-06 00:00:00            1  \n",
       "2  2037-05-03 00:00:00  2126-10-06 00:00:00            1  \n",
       "3  2073-12-25 00:00:00                  NaN            0  \n",
       "4  2073-12-25 00:00:00                  NaN            0  "
      ]
     },
     "execution_count": 27,
     "metadata": {},
     "output_type": "execute_result"
    }
   ],
   "source": [
    "print(total_df.shape)\n",
    "total_df.head(5)"
   ]
  },
  {
   "attachments": {},
   "cell_type": "markdown",
   "metadata": {},
   "source": [
    "## Creazione file NOTEEVENTS filtrato con i 'Discharge summary'"
   ]
  },
  {
   "cell_type": "code",
   "execution_count": 28,
   "metadata": {},
   "outputs": [],
   "source": [
    "total_df.to_csv('filtered_noteevents.csv', index=False, sep=';')"
   ]
  },
  {
   "attachments": {},
   "cell_type": "markdown",
   "metadata": {},
   "source": [
    "## Connessione e caricamento su MongoDB"
   ]
  },
  {
   "cell_type": "code",
   "execution_count": 29,
   "metadata": {},
   "outputs": [],
   "source": [
    "client = MongoClient(mongo_string)\n",
    "\n",
    "db = client.noteevents\n",
    "noteevents_db = db.noteevents_db\n",
    "\n",
    "if list(noteevents_db.find({})) == []:\n",
    "    docs = json.loads(total_df.to_json(orient='records'))\n",
    "    noteevents_db.delete_many({})\n",
    "    noteevents_db.insert_many(docs)"
   ]
  },
  {
   "attachments": {},
   "cell_type": "markdown",
   "metadata": {},
   "source": [
    "### Prova di connessione a MongoDB con esecuzione di una query"
   ]
  },
  {
   "cell_type": "code",
   "execution_count": 30,
   "metadata": {},
   "outputs": [
    {
     "name": "stdout",
     "output_type": "stream",
     "text": [
      "{'ROW_ID': 722, 'SUBJECT_ID': 27431, 'TEXT': \"Admission Date:  [**2148-3-2**]              Discharge Date:   [**2148-3-7**]\\n\\nDate of Birth:  [**2070-10-4**]             Sex:   M\\n\\nService: MEDICINE\\n\\nAllergies:\\nPatient recorded as having No Known Allergies to Drugs\\n\\nAttending:[**Last Name (NamePattern4) 290**]\\nChief Complaint:\\nHypotension/hypoxia\\n\\nMajor Surgical or Invasive Procedure:\\nPlacement of Dobhoff tube\\nPlacement of Arterial line\\n\\nHistory of Present Illness:\\n77 yo M NH resident h/o schizophrenia, CAD, HTN, dementia p/w\\nhypoxia and FTT from NH. According to the NH records, pt had an\\nepisode of desaturation to mid 80's on RA several days ago. He\\ncame up to 91% on 2L NC. He was also noted to have decreased po\\nintake, eating only with assistance and only preferred foods.\\nIVF fluids were given. CXR at NH neg, UA pos. Started on\\nlevaquin 500 mg po on [**2-29**], also given 1 dose of CTX.\\nSubsequently, ucx came back as < 10,000 organisms. As patient\\ncontinued to be hypotensive and hypoxic, he was transferred to\\nthe [**Hospital1 18**].\\n\\nAccording to NH note, the pt is mostly non-verbal, AAOx1. Pt was\\nable to nod yes or no in the ED and denied cough, diarrhea. +\\nSOB, + dizziness. He was unreponsive for other questions. On\\nevaluation in the ICU he was unresponsive.\\n\\nIn the ED, BP 85/65 initially, then 73/54. Other VS: HR 61, RR\\n22, O2Sat 100%NRB. He received a total of 2.9L. A foley was\\nplaced and he urinated about 225cc. Pt received empiric\\nVancomycin, Levaquin and FLagyl for possible aspiration PNA\\nalthough CXR showed no clear consolidation. UA was done and was\\nnegative. An EKG was done an revealed SR, HR 80, NA, loss of RW\\nin inferior leads, V1, V2 and STE in V2 with overall low\\nvoltage. CE were significant for Trop 0.14, CK 596, MB flat.\\nCardiology was called, ekg was faxed: assessment - CE leak\\nlikely demand, EKG with new anteroseptal q's from [**2133**] but no\\nclear ischemic changes currently. Recommended: Serial EKGs,\\ncycle CEs. Serial EKG showed no change.\\n\\n\\nPast Medical History:\\nSchizophrenia, per NH notes, baseline AAOx1, verbally abusive\\nDepression\\nHTN\\nDementia\\nR eye cataract\\nCAD, sternotomy present, ? CABG, no documentation\\n\\n\\nSocial History:\\nUnable to obtain\\n\\nFamily History:\\nNon-contributory\\n\\nPhysical Exam:\\nVS T 97.6 BP 88/49 HR 55 RR 20 O2Sat 98 RA, negative pulsus\\nparadoxus\\nGen: NAD, non-verbal, opens eyes to voice, not following\\ncommands\\nHEENT: NC/AT, PERRLA, arcus senilis, dry mm, evidence of thrush\\n\\nNECK: no LAD, no JVD, no carotid bruit\\nCOR: S1S2, regular rhythm, mildly bradycardic, [**1-3**] holosystolic\\nmurmur over apex, radiating into axilla\\nPULM: CTA b/l, no wheezing or rhonchi\\nABD: + bowel sounds, soft, nd, nt\\nSkin: cool extremities, tenting of skin, ulcer over L malleolus\\nwith necrotic tissue and surrounding edema, Stage 2 Decubitus\\nulcer\\nEXT: trace DP, no edema/c/c\\nNeuro: moving all extremities, withdrawing to pain, PERRLA,\\nreflexes 1+, downgoing Babinsky\\n\\nOn discharge, the patient was afebrile.  His exam was largely\\nunchanged.  His sacral and trocanteric decubuti were stable.\\nThe ulcer over his left malleolus was also stable.\\n\\nPertinent Results:\\n[**2148-3-7**] 02:43AM BLOOD WBC-9.9 RBC-3.18* Hgb-9.9* Hct-29.2*\\nMCV-92 MCH-31.3 MCHC-34.1 RDW-14.3 Plt Ct-301\\n[**2148-3-2**] 04:03PM BLOOD Neuts-93.8* Bands-0 Lymphs-4.4*\\nMonos-1.7* Eos-0.1 Baso-0.1\\n[**2148-3-7**] 02:43AM BLOOD Plt Ct-301\\n[**2148-3-3**] 02:20AM BLOOD ESR-40*\\n[**2148-3-7**] 02:43AM BLOOD Glucose-113* UreaN-11 Creat-0.5 Na-142\\nK-3.6 Cl-110* HCO3-26 AnGap-10\\n[**2148-3-4**] 05:43AM BLOOD ALT-85* AST-40 LD(LDH)-173 AlkPhos-84\\nTotBili-0.3\\n[**2148-3-7**] 02:43AM BLOOD Calcium-8.0* Phos-2.5* Mg-2.1 Cholest-64\\n[**2148-3-3**] 02:20AM BLOOD CRP-60.0*\\n[**2148-3-7**] 02:43AM BLOOD Triglyc-43 HDL-26 CHOL/HD-2.5 LDLcalc-29\\n[**2148-3-2**] 10:25PM BLOOD Type-ART pO2-172* pCO2-37 pH-7.42\\ncalTCO2-25 Base XS-0\\n\\nCXR: FINDINGS: As compared to the previous radiograph, a new\\nDobbhoff catheter has been inserted. The tip of the catheter\\nprojects over the stomach. However, since the last examination,\\na hiatal hernia with subsequent displacement of the part of the\\nstomach into the thorax becomes manifest. The tip of the\\npreviously positioned nasogastric tube is now projecting into\\nthe thorax. Otherwise, there are no major changes. Unchanged\\nsize of the cardiac silhouette, subtle retrocardiac atelectasis.\\nThe right basal parts of the lungs are slightly denser than on\\nthe previous radiograph, but without evidence of focal\\nparenchymal consolidations.\\n\\nEKG: Normal sinus rhythm. Q waves in leads V1-V2 suggestive of\\nprior anterior myocardial infarction. Low limb lead voltage.\\nBorderline left axis deviation.\\n\\nAnkle xray: Three radiographs of the left ankle demonstrate\\npatchy, regional, demineralization about the ankle and foot. The\\nfinding limits assessment for acute fracture or subtle cortical\\nfragmentation. No acute injury is identified. Osseous remodeling\\nabout the distal metaphyses of the tibia and fibula may\\nrepresent the sequela of remote trauma. Assessment for the\\npresence and/or absence of subcutaneous emphysema is limited by\\noverlying dressing material. The mortise is congruent. The talar\\ndome contour is smooth. There is a plantar calcaneal spur.\\nVascular calcifications are noted.\\n\\nECHO: The left atrium and right atrium are normal in cavity\\nsize. There is mild symmetric left ventricular hypertrophy with\\nnormal cavity size. There is mild to moderate regional left\\nventricular systolic dysfunction with severe\\nhypokinesis/akinesis of the distal half of the anterior septum\\nand anterior walls and distal inferior wall. The apex is mildly\\naneurysmal and dyskinetic. The remaining segments contract\\nnormally (LVEF = 35-40 %). No masses or thrombi are seen in the\\nleft ventricle. Right ventricular chamber size and free wall\\nmotion are normal. The ascending aorta is mildly dilated. The\\naortic valve leaflets (3) are mildly thickened but aortic\\nstenosis is not present. Mild (1+) aortic regurgitation is seen.\\nThe mitral valve leaflets are structurally normal. Mild (1+)\\nmitral regurgitation is seen. The estimated pulmonary artery\\nsystolic pressure is normal. There is no pericardial effusion.\\n\\nCTA Head and Neck:\\nIMPRESSION: No acute infarcts and no CT perfusion abnormalities.\\nOcclusion of the origin and proximal portion of the right\\nvertebral artery with reconstitution within the mid cervical\\nportion.\\n\\n\\nBrief Hospital Course:\\n77 year old male admitted to the hospital after having\\ndesaturation to the mid-80's on room air, hypotension as well\\ndecreased oral intake.  On admission, the patient was\\nhypotensive, hypoxic with an elevated white count.  He had an\\ninfectious work up which was unrevealing.  His urinanalysis was\\nnegative, his various pressure sores did not appear infected.\\nHis chest x-ray on admission was negative for acute infection.\\nHe appeared severely dehydrated on exam.  The patient received\\nintravenous fluids for his decreased hydration as well as for\\nhis hypotension.  He also received antibiotics initially given\\nhis diarrhea and recent antibiotics course while at the nursing\\nhome as well as given his elevated white count.  He also\\nreceived one dose of fluconazole for oral thrush which did not\\nresolve with oral Nystatin.  The patient had an x-ray of his\\nankle to evaluate for osteomyelitis underlying his ulcer.  The\\nxray did not appear consistent with osteomyelitis.\\n\\nThe patient had a NG tube placed for additional nutritional\\nsupport while in the hospital.  He received tube feeds while in\\nthe hospital.  He was tolerating softs by mouth prior to\\ndischarge.  His NG tube was discontinued prior to discharge.\\n\\nHe also had both an EKG and echocardiogram which showed evidence\\nthat the patient had a myocardial infarction prior to his\\nadmission to the hospital.  His EKG appears consistent with an\\nanterior MI.  His ECHO demonstrated normal sized left and right\\natrium with mild symmetric left ventricular hypertrophy with\\nnormal cavity size. There was mild to moderate regional left\\nventricular systolic dysfunction with severe\\nhypokinesis/akinesis of the distal half of the anterior septum,\\nanterior walls and distal inferior wall. The apex is mildly\\naneurysmal and dyskinetic. The remaining segments contract\\nnormally (LVEF = 35-40%).\\n\\nDuring his hospital course, the patient appeared less responsive\\nwith dysarthria and right sided weakness.  He had a CT scan of\\nhis head and neck vasculature, which is reported above.  The\\nneurology team was consulted to evaluate the patient.  They felt\\nhe may have had a small TIA.  He was continued on aspirin, an\\nincreased dose of statin and Plavix.  His cholesterol was\\nchecked, which was within normal limits.  He had a hemoglobin\\nA1C pending at discharge.  His neurological symptoms had\\nresolved at the time of discharge.\\n\\n\\n\\nMedications on Admission:\\nAcetaminophen 325 mg Tablet Sig: One (1) Tablet PO Q6H (every 6\\nhours) as needed for pain, fever.\\nAspirin 81 mg Tablet, Chewable Sig: One (1) Tablet, Chewable PO\\nDAILY (Daily).\\nClopidogrel 75 mg Tablet Sig: One (1) Tablet PO DAILY (Daily).\\nPrilosec 20 mg Capsule, Delayed Release(E.C.) Sig: One (1)\\nCapsule, Delayed Release(E.C.) PO once a day.\\nSenna 8.6 mg Capsule Sig: One (1) Capsule PO once a day.\\nColace 1.5 g Suppository Sig: One (1)  Rectal once a day as\\nneeded for constipation.\\nMultivitamin Capsule Sig: One (1) Capsule PO once a day.\\nNamenda 10 mg Tablet Sig: One (1) Tablet PO once a day.\\nAtorvastatin 20 mg Tablet Sig: One (1) Tablet PO DAILY (Daily).\\n\\nMirtazapine 10 mg Tablet Sig: One (1) Tablet PO HS (at bedtime).\\n\\nAricept 10 mg Tablet Sig: One (1) Tablet PO once a day.\\nOlanzapine 2.5 mg Tablet Sig: Three (3) Tablet PO HS (at\\nbedtime) as needed.\\nThiamine HCl 100 mg Tablet Sig: One (1) Tablet PO DAILY (Daily).\\n\\nFleet Enema PRN\\nMOM PRN\\n\\n\\n\\nDischarge Medications:\\n1. Acetaminophen 325 mg Tablet Sig: One (1) Tablet PO Q6H (every\\n6 hours) as needed for pain, fever.\\n2. Aspirin 81 mg Tablet, Chewable Sig: One (1) Tablet, Chewable\\nPO DAILY (Daily).\\n3. Clopidogrel 75 mg Tablet Sig: One (1) Tablet PO DAILY\\n(Daily).\\n4. Prilosec 20 mg Capsule, Delayed Release(E.C.) Sig: One (1)\\nCapsule, Delayed Release(E.C.) PO once a day.\\n5. Senna 8.6 mg Capsule Sig: One (1) Capsule PO once a day.\\n6. Colace 1.5 g Suppository Sig: One (1)  Rectal once a day as\\nneeded for constipation.\\n7. Multivitamin     Capsule Sig: One (1) Capsule PO once a day.\\n\\n8. Namenda 10 mg Tablet Sig: One (1) Tablet PO once a day.\\n9. Atorvastatin 20 mg Tablet Sig: One (1) Tablet PO DAILY\\n(Daily).\\n10. Mirtazapine 15 mg Tablet Sig: One (1) Tablet PO HS (at\\nbedtime).\\n11. Aricept 10 mg Tablet Sig: One (1) Tablet PO once a day.\\n12. Olanzapine 2.5 mg Tablet Sig: Three (3) Tablet PO HS (at\\nbedtime) as needed.\\n13. Thiamine HCl 100 mg Tablet Sig: One (1) Tablet PO DAILY\\n(Daily).\\n14. Nystatin 100,000 unit/mL Suspension Sig: Five (5) ML PO QID\\n(4 times a day) as needed.\\n\\n\\nDischarge Disposition:\\nExtended Care\\n\\nFacility:\\n[**Hospital3 537**]- [**Location (un) 538**]\\n\\nDischarge Diagnosis:\\nPrimary:\\nShock, likely cardiogenic vs septic\\nChronic decubiti ulcers\\nThrush\\nSecondary:\\nSchizophrenia\\nDepression\\nHypertension\\nCoronary Artery disease\\n\\n\\nDischarge Condition:\\nStable\\n\\n\\nDischarge Instructions:\\nYou were admitted to the hospital with low blood pressure and\\nlow oxygen levels.  While you were in the hospital you received\\nantibiotics for a possible pneumonia and treatment for a\\npossible gastrointestinal infection.  Both of your antibiotics\\nwere stopped as it does not appear that your stool or lungs are\\ninfected.\\n\\nIt appears you had a small stroke, or TIA while you were in the\\nhospital.  You have no residual problems from your small stroke.\\n We increased your statin.\\n\\nIt appears you may have had a heart attack prior to coming to\\nthe hospital.\\n\\nFollowup Instructions:\\nPlease follow up with your primary care physician, [**Last Name (NamePattern4) **]. [**First Name4 (NamePattern1) **]\\n[**Last Name (NamePattern1) 1266**].  The phone number is [**Telephone/Fax (1) 608**].\\n\\n\\n                             [**Initials (NamePattern4) **] [**Last Name (NamePattern4) **] [**Name8 (MD) **] MD [**MD Number(1) 292**]\\n\\n\"}\n",
      "{'ROW_ID': 723, 'SUBJECT_ID': 27431, 'TEXT': 'Admission Date:  [**2148-3-20**]              Discharge Date:   [**2148-3-29**]\\n\\nDate of Birth:  [**2070-10-4**]             Sex:   M\\n\\nService: MEDICINE\\n\\nAllergies:\\nPatient recorded as having No Known Allergies to Drugs\\n\\nAttending:[**First Name3 (LF) 783**]\\nChief Complaint:\\nHypoxia\\n\\nMajor Surgical or Invasive Procedure:\\nCVL placement\\nIntubation\\nJ-tube placement\\n\\nHistory of Present Illness:\\nMr. [**Known lastname 5345**] is a 77 year-old male with a history of CAD, s/p\\nCABG, HTN, schizophrenia, recent admission for\\nhypoxia/hypotension with unknown etiology who presents from\\nrehab with hypoxia to 78 on RA - 88 on NC. His PCP at [**Name9 (PRE) 5346**] started him on cefepime 1g IV bid for one week starting on\\n[**3-14**] for a positive UA in setting of elevated white count.\\nAccording to her, she sent three C diff samples that were\\nnegative and had given him empiric flagyl for three days in the\\ninterim.\\n.\\nHe was sent to the ER, where he was found to be 92-96 on NRB\\nmask. His BP ranged from 90s-120s. He was intubated for hypoxia\\n(etomidate and succinylcholine given). CXR was performed and he\\nwas given levoflox and ctx x 1. OGT was placed. Thick yellow\\nsputum was suctioned from his ETT. He recieved 3L NS. Troponin\\nreturned at 0.13 with flat CK and his EKG (Qs in V1-4 but no\\nchange from prior) was faxed to cardiology, who did not suspect\\nacute MI and recommended he be given aspirin only (he was given\\nASA 325 mg po x 1). His WBC was 25.6 with 92% PMNs and no bands.\\nUA was negative. Lactate was 1.7. Electrolytes were normal.\\n.\\nOf note, he was recently hospitalized [**Date range (1) 5347**] in the ICU after\\nbeing admitted for desat to 80s, hypotension. He was started on\\nempiric antibiotics at that time for possible aspiration pna,\\nhowever all culture data and imaging was negative and was\\nstopped. Imaging of his L ankle decubitus ulcer did not show\\nosteomyelitis.  He was also worked up for AMS with head CT and\\nneuro c/s.  Neuro felt he may have had a small TIA with R sided\\nweakness and transient R sided facial droop.  He was continued\\non aspirin, an increased dose of statin and Plavix.  His\\nneurological symptoms had resolved at the time of discharge.  He\\nwas fed through an NGT, however when he was discharged to his NH\\nthis was pulled and he continued to have poor nutritional\\nintake, which is not ideal especially given his chronic\\ndecubitus ulcers (5 of them). He has an appointment for PEG\\nplacement on [**3-22**] for poor nutritional status. Echo during his\\nlast hospitalization showed EF 35%, and EKG and CEs were\\nconsistent with likely MI prior to admission (trop 0.14). He was\\nadmitted to the MICU for further care.\\n.\\nROS: Unable to assess given pt sedated, intubated\\n\\nPast Medical History:\\nRecent hospitalization for hypoxia, hypotension of unknown\\netiology\\nTIA in [**3-5**]\\nSchizophrenia, per PCP, [**Name Initial (NameIs) 5348**] AAOx1, verbally abusive\\nDepression\\nHTN\\nDementia\\nR eye cataract\\nCAD, s/p CABG\\n\\nSocial History:\\nEats a pureed diet. Mostly bedbound at [**Name Initial (NameIs) 5348**].  Pt has no\\nfamily. Has legal guardian, [**Name (NI) 3608**] [**Name (NI) 4334**]. Per discussion with\\nPCP, [**Name10 (NameIs) 3608**] is not comfortable making code decision for pt so\\nthere was a court date on [**3-19**] to appoint a guardian ad [**Name2 (NI) 5349**]\\nfor the purposes of making code decision for pt. This person has\\nyet to be appointed.\\n\\n\\nFamily History:\\nNon-contributory\\n\\nPhysical Exam:\\nVitals: T: 97.9  BP: 116/64  HR: 88  RR: 18-20  O2Sat: 100% on\\nAC 500*14, RR 16, FiO2 0.5\\nGEN: opens eyes to name, does not withdraw to pain, sedated,\\nintubated.\\nHEENT: R eye surgical pupil, bilat pupils small, L eye sluggish\\nresponse.\\nCOR: RRR, no M/G/R, normal S1 S2\\nPULM: Lungs CTAB, decreased at bases bilat\\nABD: Soft, NT, ND, diminished BS, no HSM\\nEXT: No C/C/E, 1+bilat dp pulses, thickened toenails, decubitus\\nulcer on L lateral ankle to bone wrapped in gauze\\nNEURO: does not withdraw, toes downgoing bilat\\n\\nPertinent Results:\\n[**2148-3-20**] 09:12AM BLOOD WBC-25.6*# RBC-4.28*# Hgb-13.0*#\\nHct-39.4*# MCV-92 MCH-30.5 MCHC-33.1 RDW-15.7* Plt Ct-498*#\\n[**2148-3-21**] 04:46AM BLOOD WBC-13.2* RBC-3.55* Hgb-10.9* Hct-33.2*\\nMCV-93 MCH-30.6 MCHC-32.8 RDW-15.5 Plt Ct-351\\n[**2148-3-23**] 03:10AM BLOOD WBC-16.7* RBC-3.31* Hgb-10.3* Hct-30.6*\\nMCV-93 MCH-31.1 MCHC-33.5 RDW-15.2 Plt Ct-398\\n[**2148-3-25**] 05:41AM BLOOD WBC-13.2* RBC-3.41* Hgb-10.3* Hct-31.1*\\nMCV-91 MCH-30.1 MCHC-33.1 RDW-15.4 Plt Ct-430\\n[**2148-3-27**] 06:25AM BLOOD WBC-10.2 RBC-3.46* Hgb-10.7* Hct-32.1*\\nMCV-93 MCH-30.8 MCHC-33.2 RDW-16.0* Plt Ct-448*\\n[**2148-3-29**] 06:40AM BLOOD WBC-10.9 RBC-3.52* Hgb-10.9* Hct-32.1*\\nMCV-91 MCH-30.9 MCHC-33.9 RDW-15.9* Plt Ct-436\\n[**2148-3-20**] 09:12AM BLOOD Neuts-91.7* Bands-0 Lymphs-4.9* Monos-2.6\\nEos-0.6 Baso-0.1\\n[**2148-3-20**] 03:10PM BLOOD Neuts-90.6* Bands-0 Lymphs-5.8* Monos-2.2\\nEos-1.1 Baso-0.3\\n[**2148-3-27**] 06:25AM BLOOD Neuts-76* Bands-0 Lymphs-11* Monos-5\\nEos-8* Baso-0 Atyps-0 Metas-0 Myelos-0\\n[**2148-3-28**] 08:50AM BLOOD Neuts-78.4* Lymphs-13.0* Monos-4.1\\nEos-4.4* Baso-0.1\\n[**2148-3-20**] 09:12AM BLOOD PT-15.0* PTT-31.2 INR(PT)-1.3*\\n[**2148-3-21**] 04:46AM BLOOD PT-14.9* PTT-32.7 INR(PT)-1.3*\\n[**2148-3-22**] 06:11AM BLOOD PT-15.3* PTT-37.4* INR(PT)-1.3*\\n[**2148-3-23**] 03:10AM BLOOD PT-16.3* PTT-39.2* INR(PT)-1.5*\\n[**2148-3-25**] 05:41AM BLOOD PT-14.3* PTT-32.3 INR(PT)-1.2*\\n[**2148-3-26**] 03:15AM BLOOD PT-14.7* PTT-36.4* INR(PT)-1.3*\\n[**2148-3-28**] 08:50AM BLOOD PT-16.0* PTT-30.5 INR(PT)-1.4*\\n[**2148-3-20**] 09:12AM BLOOD Glucose-121* UreaN-7 Creat-0.6 Na-136\\nK-4.3 Cl-102 HCO3-25 AnGap-13\\n[**2148-3-22**] 06:11AM BLOOD Glucose-102 UreaN-5* Creat-0.4* Na-138\\nK-3.1* Cl-105 HCO3-23 AnGap-13\\n[**2148-3-23**] 03:38PM BLOOD Glucose-86 UreaN-3* Creat-0.4* Na-139\\nK-4.2 Cl-112* HCO3-20* AnGap-11\\n[**2148-3-27**] 06:25AM BLOOD Glucose-79 UreaN-5* Creat-0.5 Na-145\\nK-3.1* Cl-107 HCO3-28 AnGap-13\\n[**2148-3-20**] 09:12AM BLOOD ALT-31 AST-47* LD(LDH)-450* CK(CPK)-87\\nAlkPhos-85 Amylase-51 TotBili-0.7\\n[**2148-3-21**] 04:46AM BLOOD Calcium-8.2* Phos-2.3* Mg-2.3\\n[**2148-3-22**] 06:11AM BLOOD Albumin-2.5* Calcium-8.1* Phos-2.1*\\nMg-1.9\\n[**2148-3-25**] 05:41AM BLOOD Calcium-8.4 Phos-1.5* Mg-2.0\\n[**2148-3-26**] 03:15AM BLOOD Calcium-8.7 Phos-2.4* Mg-4.1*\\n[**2148-3-27**] 06:25AM BLOOD Calcium-9.1 Phos-3.2 Mg-2.1\\n[**2148-3-28**] 08:50AM BLOOD Calcium-9.4 Phos-2.8 Mg-2.0\\n[**2148-3-29**] 06:40AM BLOOD Calcium-9.0 Phos-2.4* Mg-2.0\\n[**2148-3-27**] 06:25AM BLOOD CRP-35.0*\\n[**2148-3-21**] 01:10PM BLOOD Vanco-10.6\\n[**2148-3-22**] 01:10PM BLOOD Vanco-23.8*\\n[**2148-3-29**] 06:35AM BLOOD Vanco-43.6*\\n[**2148-3-20**] 10:34AM BLOOD Type-ART Rates-14/ PEEP-5 FiO2-50 pO2-104\\npCO2-36 pH-7.41 calTCO2-24 Base XS-0 Intubat-INTUBATED\\nVent-CONTROLLED\\n[**2148-3-20**] 12:18PM BLOOD Type-ART pO2-181* pCO2-36 pH-7.42\\ncalTCO2-24 Base XS-0\\n[**2148-3-20**] 09:07PM BLOOD Type-ART pO2-146* pCO2-31* pH-7.48*\\ncalTCO2-24 Base XS-1\\n.\\nECG:  NSR at 100, LAFT, LAD, Qs in V1-4 (old), low voltages. No\\nchange from one week prior.\\n.\\nImaging:\\nCXR:  1. Relatively low lying ET tube, which should be partially\\nwithdrawn approximately 2 cm.\\n2. Relatively high-riding endogastric tube, which should be\\nadvanced several cm.\\n3. \"Deep\" left lateral costophrenic sulcus; a loculated basilar\\npneumothorax cannot be excluded.\\n4. Patchy, streaky opacities at the medial lung bases, which may\\nrepresent chronic aspiration.\\n.\\nCXR repeat: 1. No evidence of pneumothorax.\\n2. ET tube 6.2 cm above the carina partly explained by neck\\nhyperextension.\\n3. NG tube terminating in the gastric cardia. Further\\nadvancement by 7-8 cm is recommended.\\n4. Patchy bibasilar streaky opacification, more confluent in the\\nleft; an acute infectious process cannot be excluded.\\n.\\n[**3-4**] ankle film (L): Patchy regional osteopenia. No acute injury\\nidentified.  Osseous remodeling of the distal metaphyses of the\\ntibia and fibula may represent the sequela of remote trauma.\\n.\\n[**3-4**] Echo:  mild symmetric left ventricular hypertrophy with\\nnormal cavity size. severe hypokinesis/akinesis of the distal\\nhalf of the anterior septum and anterior walls and distal\\ninferior wall. The apex is mildly aneurysmal and dyskinetic. The\\nremaining segments contract normally (LVEF = 35-40 %). Mild\\naortic regurgitation. Mild mitral regurgitation.\\n.\\nCTA chest:\\nIMPRESSION:\\n1. No evidence of pulmonary embolism.\\n2. Left lower lobe collapse.\\n3. Evaluation of lung parenchyma is limited due to respiratory\\nmotion. Mild nodular and ground-glass opacity within the right\\nlung base may represent early onset of infection. No evidence of\\nconsolidation.\\n4. Enlarged right hilar lymph node with borderline enlarged\\nmediastinal lymph nodes. These findings are nonspecific and\\ncould represent the sequelae of prior infection or inflammation.\\n.\\nANKLE (AP, MORTISE & LAT) LEFT  [**2148-3-21**] 9:36 AM\\n[**Hospital 93**] MEDICAL CONDITION:\\n77 year old man with Stage IV decubitus ulcer\\nREASON FOR THIS EXAMINATION:\\nPlease assess for osteo.\\nThree radiographs of the left leg and ankle demonstrate regional\\ndemineralization about the left ankle, hind, and mid foot and\\nrepresent the sequela of remote trauma. No subcutaneous\\nemphysema is evident. Assessment of the regional soft tissues is\\nlimited by dressing material overlying the medial malleolus.\\nThere is curvilinear density seen along the skin surface\\noverlying the medial malleolus, possibly representing silver\\nnitrate. The finding does not extend to the bone on these\\nimages. No subcutaneous emphysema is evident. The mortise is\\ncongruent, although assessment of the lateral mortise is\\nsomewhat limited by position. Plantar calcaneal spurs unchanged.\\nNo cortical fragmentation is evident.\\n\\nIMPRESSION:\\nCurvilinear density on the skin overlying the medial malleolus.\\nThe finding may represent silver nitrate. The finding does not\\nextend to the bone. No cortical fragmentation or subcutaneous\\nemphysema is identified.\\nRegional demineralization about the left ankle, mid, and\\nhindfoot is unchanged. No acute injury is identified.\\n.\\nCHEST (PORTABLE AP)\\nReason: Evaluate for interval change.\\n[**Hospital 93**] MEDICAL CONDITION:\\n77 year old man with hypoxia.\\nREASON FOR THIS EXAMINATION:\\nEvaluate for interval change.\\nHISTORY: Hypoxia, to evaluate for change.\\nFINDINGS: In comparison with study of [**3-25**], the opacification at\\nthe left base has almost completely cleared. The remainder of\\nthe lung is within normal limits. Nasogastric tube again extends\\nwell into the stomach and probably into the duodenum.\\n\\n\\nBrief Hospital Course:\\n# Hypoxia: Likely due to aspiration. Although CXR not impressive\\nfor infectious cause, GPCs on gram stain of sputum (while pt had\\nbeen on outpatient cefepime) and on admission had thick\\nsecretions, so empirically treated with vanc/zosyn for possible\\nhospital acquired pna. Extubated [**3-21**] to nasal cannula. Cultures\\nwere negative, so antibiotics were discontinued on [**2148-3-23**]\\n(sputum culture with oropharyngeal flora only, blood cultures\\nwith only 1 bottle coag neg staph). However, increased\\nsecretions and WBC rising on [**3-25**]. Pan-cultured again (since off\\nabx x2 days) and restarted on vanc/zosyn, still no growth at\\ndischarge. Patient also had repeated episodes of hypoxia while\\nstill in the ICU requiring face mask which suggests mucous\\nplugging vs. aspiration which are resolving with chest PT.\\nPatient has been satting well on room air since admission to the\\nmedicine floor. Also appears euvolemic to dry on exam, no rales\\nso likely not fluid overloaded.  He will continue on\\nvancomycin/zosyn for a 14 day course (day 1=[**3-20**]).  His\\nvancomycin trough on the day of discharge was elevated to 43 so\\nhis doses were held.  If possible, vanc trough should be checked\\ndaily each morning, and vancomycin can be restarted if trough\\n<20 before [**2148-4-2**].  Additionally, patient has a percutaneous\\nJ-tube in place nutrition given his history of aspiration.  Tube\\nfeeds were restarted on [**2148-3-28**] and are advancing to goal of\\n65cc/hr.  No need for supplemental oxygen at this time as\\nsatting well on room air (>95%).\\n.\\n# Hypotension: Has been stable and not required fluid boluses\\nsince [**3-23**]. [**Month/Year (2) **] SBP appears to be in the 90s, but transient\\ndips into the 80s have resolved spontaneously with no\\nintervention. No evidence of sepsis (HR stable, white count\\ndecreasing, blood pressure stable, no clear source of infection\\nother than possible aspiration).  Blood cultures still pending\\nat the time of dischage, have all been no growth to date.\\nPatient can have IVF prn to maintain BP if needed.  His ACEI and\\nbeta blocker have been held due to hypotension and his systolic\\nBPs have been in the high 90s and low 100s over the last week.\\nGiven ectopy on telemetry, could consider restarting his beta\\nblocker at a low dose in the near future pending increase in his\\nblood pressure.\\n.\\n# Leukocytosis: Trending downward after restart of his\\nantibiotics. Most likely source is pulmonary as UA negative, no\\ndiarrhea, LFTs relatively within normal limits at time of\\nadmission. Also may be due to sacral or heel pressure ulcer. Has\\nhad plain film without e/o osteomyelitis.  CRP and ESR trending\\ndownward.  Continue antibiotics as above.\\n.\\n# Poor nutritional status: Poor PO intake especially important\\ngiven sacral decubs.  Tube feeds restarted via J-tube and\\nadvancing to goal.  Continuing vit C and zinc as per outpatient\\nregimen.\\n.\\n# Electrolytes: Patient has been hypernatremic and hypokalemic\\nover the last few days.  J-tube free water flushes were\\nincreased and patient is receiving occasional free water as\\nneeded.  Potassium repletion as well given ectopy on telemetry.\\nHis electrolytes should be monitored daily for the next few days\\ngiven restart of his tube feeds.\\n.\\n# Wound care/decubitus ulcers: Chronic problem for patient who\\ndoes not walk at [**Month/Year (2) 5348**]. No evidence of osteo of L ankle on\\nplain film.  Wound care was consulting and recommendations are\\nbeing followed for management.\\n.\\n# S/p TIA last admission: continue aspirin and plavix per outpt\\ndoses.\\n.\\n# CAD s/p CABG and possible prior NSTEMI: Continue statin, low\\ndose ASA. Pt not on BB or ACE, which were held for hypotension\\nas above.\\n.\\n# Anemia: Pt with [**Month/Year (2) 5348**] hct 30, likely hemoconcentrated on\\nadmission. Continues to be stable.\\n.\\n# Schizophrenia: Continued on Zyprexa 7.5mg po qhs prn and\\nMirtazapine.\\n.\\n# Dementia: Continue outpt dose of Namenda and Aricept. Pt at\\n[**Month/Year (2) 5348**] is oriented x 1 and speaks (often with cursing)\\n.\\n# FEN: Tube feeds and electrolyte repletion as above.  Speech\\nand swallow were consulted to assess patient\\'s aspiration risk.\\nPatient can have nectar thick liquids and puree in small\\nquantities with 1:1 supervision for pleasure feeds.\\n.\\n# PPx: PPI, heparin SQ.\\n.\\n# Code: Full code pending further discussion with guardian\\n(legal guardian is [**Name (NI) 3608**] [**Name (NI) 4334**] [**Telephone/Fax (1) 5350**], who will make all\\ndecisions except code status. PCP is [**First Name8 (NamePattern2) 335**] [**Last Name (NamePattern1) 5351**] [**Telephone/Fax (1) 608**].\\nGuardian ad [**Name2 (NI) 5352**] not yet appointed)\\n.\\n# Access: Right midline, 20 gauge\\n\\n\\nMedications on Admission:\\nsince discharge on [**3-7**]:\\n1. Acetaminophen 325 mg Tablet Sig: One (1) Tablet PO Q6H (every\\n\\n6 hours) as needed for pain, fever.\\n2. Aspirin 81 mg Tablet, Chewable Sig: One (1) Tablet, Chewable\\nPO DAILY (Daily).\\n3. Clopidogrel 75 mg Tablet Sig: One (1) Tablet PO DAILY\\n(Daily).\\n4. Prilosec 20 mg Capsule, Delayed Release(E.C.) Sig: One (1)\\nCapsule, Delayed Release(E.C.) PO once a day.\\n5. Senna 8.6 mg Capsule Sig: One (1) Capsule PO once a day.\\n6. Colace 1.5 g Suppository Sig: One (1)  Rectal once a day as\\nneeded for constipation.\\n7. Multivitamin     Capsule Sig: One (1) Capsule PO once a day.\\n\\n8. Namenda 10 mg Tablet Sig: One (1) Tablet PO once a day.\\n9. Atorvastatin 20 mg Tablet Sig: One (1) Tablet PO DAILY\\n(Daily).\\n10. Mirtazapine 15 mg Tablet Sig: One (1) Tablet PO HS (at\\nbedtime).\\n11. Aricept 10 mg Tablet Sig: One (1) Tablet PO once a day.\\n12. Olanzapine 2.5 mg Tablet Sig: Three (3) Tablet PO HS (at\\nbedtime) as needed.\\n13. Thiamine HCl 100 mg Tablet Sig: One (1) Tablet PO DAILY\\n(Daily).\\n14. Nystatin 100,000 unit/mL Suspension Sig: Five (5) ML PO QID\\n(4 times a day) as needed.\\n15. Cefepime 1g IV q12hr for one week (planned) - day 1: [**2148-3-14**]\\nfor UTI.\\n\\n\\nDischarge Medications:\\n1. Aspirin 81 mg Tablet, Chewable Sig: One (1) Tablet, Chewable\\nPO DAILY (Daily).\\n2. Clopidogrel 75 mg Tablet Sig: One (1) Tablet PO DAILY\\n(Daily).\\n3. Acetaminophen 325 mg Tablet Sig: One (1) Tablet PO every six\\n(6) hours as needed for fever or pain.\\n4. Prilosec 20 mg Capsule, Delayed Release(E.C.) Sig: One (1)\\nCapsule, Delayed Release(E.C.) PO once a day.\\n5. Senna 8.6 mg Tablet Sig: One (1) Tablet PO DAILY (Daily).\\n6. Docusate Sodium 50 mg/5 mL Liquid Sig: Ten (10) mL PO BID (2\\ntimes a day).\\n7. Piperacillin-Tazobactam-Dextrs 4.5 gram/100 mL Piggyback Sig:\\n4.5 gm Intravenous Q8H (every 8 hours) for 4 days.\\n8. Donepezil 5 mg Tablet Sig: Two (2) Tablet PO HS (at bedtime).\\n\\n9. Atorvastatin 20 mg Tablet Sig: One (1) Tablet PO DAILY\\n(Daily).\\n10. Memantine 5 mg Tablet Sig: Two (2) Tablet PO qday ().\\n11. Mirtazapine 15 mg Tablet Sig: One (1) Tablet PO HS (at\\nbedtime).\\n12. Olanzapine 5 mg Tablet, Rapid Dissolve Sig: 1.5 Tablet,\\nRapid Dissolves PO QHS (once a day (at bedtime)) as needed.\\n13. Thiamine HCl 100 mg Tablet Sig: One (1) Tablet PO DAILY\\n(Daily).\\n14. Nystatin 100,000 unit/mL Suspension Sig: Five (5) ML PO QID\\n(4 times a day) as needed.\\n15. Heparin (Porcine) 5,000 unit/mL Solution Sig: One (1) mL\\nInjection TID (3 times a day).\\n16. Critic-Aid 20-51 % Paste Sig: One (1) dose Topical once a\\nday: Apply to Right lateral maleolus daily  .\\n17. Zinc Sulfate 220 mg Capsule Sig: One (1) Capsule PO DAILY\\n(Daily).\\n18. Ascorbic Acid 500 mg Tablet Sig: One (1) Tablet PO BID (2\\ntimes a day).\\n19. Vancomycin 1,000 mg Recon Soln Sig: One (1) gram Intravenous\\nonce a day for 4 days: PLEASE HOLD FOR VANC TROUGH >20. DO NOT\\nGIVE UNTIL TROUGH HAS BEEN CHECKED.\\n\\n\\nDischarge Disposition:\\nExtended Care\\n\\nFacility:\\n[**Hospital3 537**]- [**Location (un) 538**]\\n\\nDischarge Diagnosis:\\nAspiration pneumonia\\n.\\nSecondary:\\nMalnutrition\\nCoronary artery disease\\nSchizophrenia\\nDementia\\nPressure ulcers\\n\\n\\nDischarge Condition:\\nHemodynamically stable\\n\\n\\nDischarge Instructions:\\nYou were admitted with hypoxia and were initially intubated. You\\nwere treated for pneumonia and were able to be extubated. You\\nshould continue your antibiotics for a total of 14 days.\\n\\nIf you develop new hypoxia, hypotension, chest pain, or other\\nconcerning symptoms, you should proceed to the Emergency Room as\\nsoon as possible.\\n\\n\\nFollowup Instructions:\\nYou should follow up with your primary care physician.\\n\\n\\n                             [**First Name11 (Name Pattern1) 734**] [**Last Name (NamePattern1) 735**] MD, [**MD Number(3) 799**]\\n\\n'}\n",
      "{'ROW_ID': 724, 'SUBJECT_ID': 27431, 'TEXT': \"Admission Date:  [**2148-4-8**]              Discharge Date:   [**2148-4-8**]\\n\\nDate of Birth:  [**2070-10-4**]             Sex:   M\\n\\nService: MEDICINE\\n\\nAllergies:\\nPatient recorded as having No Known Allergies to Drugs\\n\\nAttending:[**Last Name (NamePattern1) 495**]\\nChief Complaint:\\nhypoxia, s/p PEA arrest\\n\\nMajor Surgical or Invasive Procedure:\\nNone\\n\\n\\nHistory of Present Illness:\\n77 male nursing home resident, 2 admissions in past month,  sent\\nto the ED from his NH with hypoxia and worsening L sided PNA.\\nHe was found to have an O2 sat in the 70's while receiving 100%\\noxygen by non-rebreather face mask.  He had some ectopy for\\nwhich he received 75 mg of amiodraone.  He was intubated and his\\noxygen saturations remained low in the 60's, with PAO2 in the\\n40's on vent settings of AC 500 x 15, 10 peep.  His CXR showed\\nworsened PNA with white out of the L lung and his labs returned\\nwith + UTI and elevated lactate.  He was started on Vanc and\\nZosyn.  He had a PEA arrest in the ED requiring CPR and an amp\\nof epinephrine.  A spontaneous pulse returned.  His blood\\npressure was opiginally in the 90's, which is his [**Last Name (NamePattern1) 5348**], and\\nthen improved to the low 100's after the epinephrine.  His heart\\nrate was in the 120's.  He was transferred to the MICU for\\nfurther care.\\n.\\nOn arrival to the floor patient was persistantly hypoxic and was\\nnoted to go in and out of V tach.  His legal guardian was called\\nand was not available.  His PCP, [**Last Name (NamePattern4) **]. [**First Name8 (NamePattern2) 335**] [**Last Name (NamePattern1) 5351**] was called\\nand it was established that the patient has recently had a legal\\nguardian appointed but that the legal guardian had not yet met\\nthe patient.  Per the PCP, [**Name10 (NameIs) **] was a plan in motion to go to\\ncourt to obtain a DNR/DNI order later this month.  The patient\\nremained hypoxic and bradycardiac despite vent changes and\\npositioning manuvers.  He received 4 mg and then 2 mg of\\nmorphine to treat his respiratory distress.  It was determined\\nthat CPR was not indicated and the patient again had a PEA\\narrest.  He became asystolic and was pronounced dead at 12:55\\nPM.  The medical examiner was called and they declined the case.\\n\\n\\nPast Medical History:\\nRecent hospitalization for hypoxia, hypotension of unknown\\netiology\\nTIA in [**3-5**]\\nSchizophrenia, per PCP, [**Name Initial (NameIs) 5348**] AAOx1, verbally abusive\\nDepression\\nHTN\\nDementia\\nR eye cataract\\nCAD, s/p CABG\\n\\nSocial History:\\nNursing Home patient.  Legal Guardian is [**Name (NI) 3608**] [**Name (NI) 4334**].  Patient\\nhas a new guardian\\n\\nFamily History:\\nNon-contributory\\n\\nBrief Hospital Course:\\nSee HPI\\n\\nDischarge Disposition:\\nExpired\\n\\nDischarge Diagnosis:\\nPneumonia\\nUrinary Tract Infection\\n\\n\\nDischarge Condition:\\nExpired\\n\\n\\nDischarge Instructions:\\nExpired\\n\\nFollowup Instructions:\\nExpired\\n\\n\\n\\n\"}\n"
     ]
    }
   ],
   "source": [
    "query = list(noteevents_db.aggregate([\n",
    "    {\"$match\": {\"SUBJECT_ID\": 27431}},\n",
    "    {\"$project\": {\"_id\": 0, \"ROW_ID\": 1, \"SUBJECT_ID\": 1, \"TEXT\": 1}}\n",
    "]))\n",
    "\n",
    "for document in query:\n",
    "    print(document)"
   ]
  }
 ],
 "metadata": {
  "kernelspec": {
   "display_name": "Python 3",
   "language": "python",
   "name": "python3"
  },
  "language_info": {
   "codemirror_mode": {
    "name": "ipython",
    "version": 3
   },
   "file_extension": ".py",
   "mimetype": "text/x-python",
   "name": "python",
   "nbconvert_exporter": "python",
   "pygments_lexer": "ipython3",
   "version": "3.10.9"
  },
  "orig_nbformat": 4
 },
 "nbformat": 4,
 "nbformat_minor": 2
}
