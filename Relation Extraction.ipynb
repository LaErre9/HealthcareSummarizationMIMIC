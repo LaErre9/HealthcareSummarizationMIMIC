{
 "cells": [
  {
   "attachments": {},
   "cell_type": "markdown",
   "metadata": {},
   "source": [
    "# Relation Extraction"
   ]
  },
  {
   "attachments": {},
   "cell_type": "markdown",
   "metadata": {},
   "source": [
    "## Librerie utili"
   ]
  },
  {
   "cell_type": "code",
   "execution_count": 30,
   "metadata": {},
   "outputs": [],
   "source": [
    "import json\n",
    "import openai\n",
    "import pandas as pd\n",
    "import time"
   ]
  },
  {
   "attachments": {},
   "cell_type": "markdown",
   "metadata": {},
   "source": [
    "## Importo le secrets del progetto"
   ]
  },
  {
   "cell_type": "code",
   "execution_count": null,
   "metadata": {},
   "outputs": [],
   "source": [
    "with open(\"secrets.json\") as f:\n",
    "    secrets = json.load(f)\n",
    "    api_key = secrets[\"api_key\"]"
   ]
  },
  {
   "attachments": {},
   "cell_type": "markdown",
   "metadata": {},
   "source": [
    "## Lettura file CSV"
   ]
  },
  {
   "cell_type": "code",
   "execution_count": 31,
   "metadata": {},
   "outputs": [],
   "source": [
    "df = pd.read_csv('ner_noteevents.csv', sep=';', header=0)"
   ]
  },
  {
   "attachments": {},
   "cell_type": "markdown",
   "metadata": {},
   "source": [
    "### Pulizia dataframe"
   ]
  },
  {
   "cell_type": "code",
   "execution_count": 32,
   "metadata": {},
   "outputs": [],
   "source": [
    "df['Disease or Syndrome'] = df[['Disease or Syndrome', 'Mental or Behavioral Dysfunction', 'Pathologic Function']].astype(str).apply(', '.join, axis=1)\n",
    "\n",
    "df = df.drop('Body Part, Organ, or Organ Component', axis=1)\n",
    "df = df.drop('Laboratory Procedure', axis=1)\n",
    "df = df.drop('Therapeutic or Preventive Procedure', axis=1)\n",
    "df = df.drop('Mental or Behavioral Dysfunction', axis=1)\n",
    "df = df.drop('Pathologic Function', axis=1)\n",
    "\n",
    "# DataFrame di destinazione vuoto\n",
    "id = pd.DataFrame()\n",
    "\n",
    "# Copia delle colonne desiderate\n",
    "id['Subject ID'] = df['Subject ID'].copy()\n",
    "id['Note ID'] = df['Note ID'].copy()\n",
    "\n",
    "df = df.drop(labels=['Subject ID','Note ID'], axis=1)"
   ]
  },
  {
   "attachments": {},
   "cell_type": "markdown",
   "metadata": {},
   "source": [
    "## Estrazione delle relazioni"
   ]
  },
  {
   "attachments": {},
   "cell_type": "markdown",
   "metadata": {},
   "source": [
    "### Per estrarre le relazioni usiamo il modello generativo di OpenAI - \"GPT-3.5-turbo\""
   ]
  },
  {
   "cell_type": "code",
   "execution_count": null,
   "metadata": {},
   "outputs": [],
   "source": [
    "openai.api_key = api_key\n",
    "\n",
    "\n",
    "# Create an empty dictionary to store the medical concepts for each row\n",
    "medical_concepts = {}\n",
    "\n",
    "\n",
    "# Iterate over the rows of the dataframe\n",
    "for index, row in df.iterrows():\n",
    "    row_concepts = {}\n",
    "    \n",
    "    # Iterate over the columns of the row\n",
    "    for column in df.columns:\n",
    "        concept = row[column]\n",
    "        \n",
    "        # Check if the concept exists and is not NaN\n",
    "        if concept and pd.notnull(concept):\n",
    "            if column in row_concepts:\n",
    "                row_concepts[column].append(concept)\n",
    "            else:\n",
    "                row_concepts[column] = [concept]\n",
    "    \n",
    "    # Store the row's concepts in the main dictionary\n",
    "    medical_concepts[index] = row_concepts\n",
    "\n",
    "\n",
    "\n",
    "# Iterate over the rows' concepts\n",
    "for index, row_concepts in medical_concepts.items():\n",
    "    # Create a text prompt with the extracted concepts for each row\n",
    "    prompt_text = \"\"\n",
    "    prompt_text += \"\"\"Find the relation between Disease or Sindrome, Diagnostic Procedure, Sign or Symptom, Pharmacologic Substance and Laboratory or Test Result; given the following values:\"\"\"\n",
    "    prompt_text += \"\\n\"\n",
    "\n",
    "    # Iterate over the categories and concepts in the row\n",
    "    for category, concepts in row_concepts.items():\n",
    "        prompt_text += f\"{category}: \"\n",
    "        prompt_text += \", \".join(concepts)\n",
    "        prompt_text += \"\\n\"\n",
    "    \n",
    "    prompt_text += \"\\n\"\n",
    "\n",
    "    # Add instructions for the model\n",
    "    prompt_text += \"\"\"Generate at most 1 relation for each disease in the list, do not generate concepts that not are present in the list and left the cell blank when the concept are not present. The first row always be: \"Disease or Syndrome,Diagnostic Procedure,Sign or Symptom,Laboratory or Test Result,Pharmacologic Substance\". The output must be formatted as csv: Transient Ischemic Attack,Electrocardiography,Chest Pain,Partial pressure CO2 result,atorvastatin\"\"\"\n",
    "\n",
    "    message = [{\"role\": \"system\", \"content\": \"You are an expert medical assistant.\"}, \n",
    "                {\"role\": \"user\", \"content\": prompt_text}]\n",
    "\n",
    "    completion = openai.ChatCompletion.create(\n",
    "        model=\"gpt-3.5-turbo\",\n",
    "        messages=message,\n",
    "        max_tokens=600,\n",
    "        stop=None,\n",
    "        temperature=0.3,\n",
    "        frequency_penalty=0.7\n",
    "    )\n",
    "\n",
    "    completion_text = completion['choices'][0]['message']['content']\n",
    "\n",
    "    with open(f'Relation Extracted/{index+1}.txt', 'w') as f:\n",
    "        f.write(completion_text)\n",
    "    \n",
    "    print(completion_text)\n",
    "    time.sleep(5)"
   ]
  },
  {
   "attachments": {},
   "cell_type": "markdown",
   "metadata": {},
   "source": [
    "### Unione delle relazioni estratte in un file di testo unico"
   ]
  },
  {
   "cell_type": "code",
   "execution_count": 46,
   "metadata": {},
   "outputs": [],
   "source": [
    "result = \"Subject ID,Note ID,Disease or Syndrome,Diagnostic Procedure,Sign or Symptom,Laboratory or Test Result,Pharmacologic Substance\"\n",
    "result += '\\n'\n",
    "for idx, row in id.iterrows():\n",
    "    # Lettura del testo formattato\n",
    "    with open(f'Relation Extracted/{idx+1}.txt', 'r') as f:\n",
    "        text = f.read()\n",
    "\n",
    "    lines = text.split('\\n')\n",
    "\n",
    "    # Rimozione della prima riga\n",
    "    lines = lines[1:]\n",
    "\n",
    "    # Creazione delle righe da aggiungere al testo formattato\n",
    "    new_lines = [f'{id.loc[idx, \"Subject ID\"]},{id.loc[idx, \"Note ID\"]},{line}' for i, line in enumerate(lines)]\n",
    "\n",
    "    result += '\\n'.join(new_lines)\n",
    "    result += '\\n'"
   ]
  },
  {
   "attachments": {},
   "cell_type": "markdown",
   "metadata": {},
   "source": [
    "### Salvataggio delle relazioni estratte in un CSV"
   ]
  },
  {
   "cell_type": "code",
   "execution_count": 47,
   "metadata": {},
   "outputs": [],
   "source": [
    "# Salvataggio del risultato in un file di testo\n",
    "with open('Relation Extracted/result.txt', 'w') as f:\n",
    "    f.write(result)"
   ]
  },
  {
   "cell_type": "code",
   "execution_count": 52,
   "metadata": {},
   "outputs": [],
   "source": [
    "# Lettura del file di testo\n",
    "data = pd.read_csv(\"Relation Extracted/result.txt\", sep=',', on_bad_lines='skip')\n",
    "\n",
    "# Salvataggio come file CSV\n",
    "data.to_csv('Relation Extracted/result.csv', sep=',', index=False)"
   ]
  }
 ],
 "metadata": {
  "kernelspec": {
   "display_name": "healthcare",
   "language": "python",
   "name": "python3"
  },
  "language_info": {
   "codemirror_mode": {
    "name": "ipython",
    "version": 3
   },
   "file_extension": ".py",
   "mimetype": "text/x-python",
   "name": "python",
   "nbconvert_exporter": "python",
   "pygments_lexer": "ipython3",
   "version": "3.10.9"
  },
  "orig_nbformat": 4
 },
 "nbformat": 4,
 "nbformat_minor": 2
}
