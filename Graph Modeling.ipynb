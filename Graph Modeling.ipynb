{
 "cells": [
  {
   "attachments": {},
   "cell_type": "markdown",
   "metadata": {},
   "source": [
    "# Graph Modeling"
   ]
  },
  {
   "attachments": {},
   "cell_type": "markdown",
   "metadata": {},
   "source": [
    "## Librerie utili"
   ]
  },
  {
   "cell_type": "code",
   "execution_count": 1,
   "metadata": {},
   "outputs": [],
   "source": [
    "import pandas as pd\n",
    "from py2neo import Graph, Node, Relationship"
   ]
  },
  {
   "attachments": {},
   "cell_type": "markdown",
   "metadata": {},
   "source": [
    "## Collegamento a Neo4j"
   ]
  },
  {
   "attachments": {},
   "cell_type": "markdown",
   "metadata": {},
   "source": [
    "### Nel GraphDB 'neo4j' salveremo le entità estratte dalla NER senza 'RE'"
   ]
  },
  {
   "cell_type": "code",
   "execution_count": 22,
   "metadata": {},
   "outputs": [],
   "source": [
    "graph = Graph(\"bolt://localhost:7687\", user=\"neo4j\", password=\"bigdata2023\")"
   ]
  },
  {
   "attachments": {},
   "cell_type": "markdown",
   "metadata": {},
   "source": [
    "### Leggo il file CSV"
   ]
  },
  {
   "cell_type": "code",
   "execution_count": 23,
   "metadata": {},
   "outputs": [],
   "source": [
    "note = pd.read_csv('ner_noteevents.csv', sep=';', header=0)"
   ]
  },
  {
   "attachments": {},
   "cell_type": "markdown",
   "metadata": {},
   "source": [
    "### Pulisco il GraphDB (SOLO se necessario)"
   ]
  },
  {
   "cell_type": "code",
   "execution_count": 24,
   "metadata": {},
   "outputs": [],
   "source": [
    "graph.delete_all()"
   ]
  },
  {
   "attachments": {},
   "cell_type": "markdown",
   "metadata": {},
   "source": [
    "## Versione in cui tutte le entità sono collegate alla Nota Clinica"
   ]
  },
  {
   "cell_type": "code",
   "execution_count": 25,
   "metadata": {},
   "outputs": [],
   "source": [
    "# Create relationships between nodes with the same row\n",
    "for index, row in note.iterrows():\n",
    "    #Read nodes from dataframe\n",
    "    subject_id = row['Subject ID']\n",
    "    note_clinical_id = row['Note ID']\n",
    "    diagnostics = row['Diagnostic Procedure']\n",
    "    body_parts = row['Body Part, Organ, or Organ Component']\n",
    "    diseases = row['Disease or Syndrome']\n",
    "    mental_diseases = row['Mental or Behavioral Dysfunction']\n",
    "    lab_procedures = row['Laboratory Procedure']\n",
    "    lab_results = row['Laboratory or Test Result']\n",
    "    sign_symptoms = row['Sign or Symptom']\n",
    "    therapeutic_procedures = row['Therapeutic or Preventive Procedure']\n",
    "    drugs = row['Pharmacologic Substance']\n",
    "    \n",
    "    # Check if Patient node with subject_id already exists\n",
    "    subject_node = graph.nodes.match(\"Patient\", subject_id=subject_id).first()\n",
    "    if not subject_node:\n",
    "        subject_node = Node(\"Patient\", subject_id=subject_id)\n",
    "        graph.create(subject_node)\n",
    "    \n",
    "    note_node = Node(\"Note Clinical\", note_clinical_id=note_clinical_id)\n",
    "    relationship = Relationship(subject_node, \"PRESENT\", note_node)\n",
    "    graph.create(relationship)\n",
    "    \n",
    "    # Create and connect nodes for Diagnostic Procedure\n",
    "    if isinstance(diagnostics, str):\n",
    "        diagnostics = diagnostics.split(\", \")\n",
    "        for diagnostic in diagnostics:\n",
    "            diagnostic_node = Node(\"Diagnostic Procedure\", name=diagnostic)\n",
    "            graph.merge(diagnostic_node, \"Diagnostic Procedure\", \"name\")\n",
    "            relationship = Relationship(note_node, \"HAS_PROCEDURE\", diagnostic_node)\n",
    "            graph.create(diagnostic_node)\n",
    "            graph.create(relationship)\n",
    "    \n",
    "    # Create and connect nodes for Body Parts\n",
    "    if isinstance(body_parts, str):\n",
    "        body_parts = body_parts.split(\", \")\n",
    "        for body_part in body_parts:\n",
    "            body_part_node = Node(\"Body Part\", name=body_part)\n",
    "            graph.merge(body_part_node, \"Body Part\", \"name\")\n",
    "            relationship = Relationship(note_node, \"HAS_BODY_PART\", body_part_node)\n",
    "            graph.create(body_part_node)\n",
    "            graph.create(relationship)\n",
    "\n",
    "    # Create and connect nodes for Diseases\n",
    "    if isinstance(diseases, str):\n",
    "        diseases = diseases.split(\", \")\n",
    "        for disease in diseases:\n",
    "            disease_node = Node(\"Disease or Syndrome\", name=disease)\n",
    "            graph.merge(disease_node, \"Disease or Syndrome\", \"name\")\n",
    "            relationship = Relationship(note_node, \"HAS_DISEASE\", disease_node)\n",
    "            graph.create(disease_node)\n",
    "            graph.create(relationship)\n",
    "    \n",
    "    # Create and connect nodes for Mental Diseases\n",
    "    if isinstance(mental_diseases, str):\n",
    "        mental_diseases = mental_diseases.split(\", \")\n",
    "        for mental_disease in mental_diseases:\n",
    "            mental_disease_node = Node(\"Mental or Behavioral Dysfunction\", name=mental_disease)\n",
    "            graph.merge(mental_disease_node, \"Mental or Behavioral Dysfunction\", \"name\")\n",
    "            relationship = Relationship(note_node, \"HAS_MENTAL_DISEASE\", mental_disease_node)\n",
    "            graph.create(mental_disease_node)\n",
    "            graph.create(relationship)\n",
    "    \n",
    "    # Create and connect nodes for Laboratory Procedures\n",
    "    if isinstance(lab_procedures, str):\n",
    "        lab_procedures = lab_procedures.split(\", \")\n",
    "        for lab_procedure in lab_procedures:\n",
    "            lab_procedure_node = Node(\"Laboratory Procedure\", name=lab_procedure)            \n",
    "            graph.merge(lab_procedure_node, \"Laboratory Procedure\", \"name\")\n",
    "            relationship = Relationship(note_node, \"HAS_LABORATORY_PROCEDURE\", lab_procedure_node)\n",
    "            graph.create(lab_procedure_node)\n",
    "            graph.create(relationship)\n",
    "    \n",
    "    # Create and connect nodes for Lab Results\n",
    "    if isinstance(lab_results, str):\n",
    "        lab_results = lab_results.split(\", \")\n",
    "        for lab_result in lab_results:\n",
    "            lab_result_node = Node(\"Laboratory or Test Result\", name=lab_result)\n",
    "            graph.merge(lab_result_node, \"Laboratory or Test Result\", \"name\")\n",
    "            relationship = Relationship(note_node, \"HAS_LAB_RESULT\", lab_result_node)\n",
    "            graph.create(lab_result_node)\n",
    "            graph.create(relationship)\n",
    "    \n",
    "    # Create and connect nodes for Sign/Symptoms\n",
    "    if isinstance(sign_symptoms, str):\n",
    "        sign_symptoms = sign_symptoms.split(\", \")\n",
    "        for sign_symptom in sign_symptoms:\n",
    "            sign_symptom_node = Node(\"Sign or Symptom\", name=sign_symptom)\n",
    "            graph.merge(sign_symptom_node, \"Sign or Symptom\", \"name\")\n",
    "            relationship = Relationship(note_node, \"HAS_SIGN_SYMPTOM\", sign_symptom_node)\n",
    "            graph.create(sign_symptom_node)\n",
    "            graph.create(relationship)\n",
    "    \n",
    "    # Create and connect nodes for Therapeutic Procedures\n",
    "    if isinstance(therapeutic_procedures, str):\n",
    "        therapeutic_procedures = therapeutic_procedures.split(\", \")\n",
    "        for therapeutic_procedure in therapeutic_procedures:\n",
    "            therapeutic_procedure_node = Node(\"Therapeutic or Preventive Procedure\", name=therapeutic_procedure)\n",
    "            graph.merge(therapeutic_procedure_node, \"Therapeutic or Preventive Procedure\", \"name\")\n",
    "            relationship = Relationship(note_node, \"HAS_THERAPEUTIC_PROCEDURE\", therapeutic_procedure_node)\n",
    "            graph.create(therapeutic_procedure_node)\n",
    "            graph.create(relationship)\n",
    "    \n",
    "    # Create and connect nodes for Pharmacologic Substance\n",
    "    if isinstance(drugs, str):\n",
    "        drugs = drugs.split(\", \")\n",
    "        for drug in drugs:\n",
    "            drug_node = Node(\"Pharmacologic Substance\", name=drug)\n",
    "            graph.merge(drug_node, \"Pharmacologic Substance\", \"name\")\n",
    "            relationship = Relationship(note_node, \"HAS_PRESCRIPTION\", drug_node)\n",
    "            graph.create(drug_node)\n",
    "            graph.create(relationship)"
   ]
  },
  {
   "attachments": {},
   "cell_type": "markdown",
   "metadata": {},
   "source": [
    "## Versione con Relation Extraction"
   ]
  },
  {
   "attachments": {},
   "cell_type": "markdown",
   "metadata": {},
   "source": [
    "### Collegamento al GraphDB 'relationextraction'"
   ]
  },
  {
   "cell_type": "code",
   "execution_count": 2,
   "metadata": {},
   "outputs": [],
   "source": [
    "graph_re = Graph(\"bolt://localhost:7687\", name=\"relationextraction\", user=\"neo4j\", password=\"bigdata2023\")"
   ]
  },
  {
   "attachments": {},
   "cell_type": "markdown",
   "metadata": {},
   "source": [
    "### Pulisco il DB (SOLO se necessario)"
   ]
  },
  {
   "cell_type": "code",
   "execution_count": 27,
   "metadata": {},
   "outputs": [],
   "source": [
    "graph_re.delete_all()"
   ]
  },
  {
   "attachments": {},
   "cell_type": "markdown",
   "metadata": {},
   "source": [
    "### Leggo il file CSV delle relazioni estratte da \"GPT-3.5-turbo\""
   ]
  },
  {
   "cell_type": "code",
   "execution_count": 28,
   "metadata": {},
   "outputs": [],
   "source": [
    "relation = pd.read_csv('Relation Extracted/result.csv', sep=',', header=0)"
   ]
  },
  {
   "attachments": {},
   "cell_type": "markdown",
   "metadata": {},
   "source": [
    "### Creo i nodi creati dalla Relation Extraction"
   ]
  },
  {
   "cell_type": "code",
   "execution_count": 29,
   "metadata": {},
   "outputs": [],
   "source": [
    "# Create relationships between nodes with the same row\n",
    "for index, row in relation.iterrows():\n",
    "    #Read nodes from dataframe\n",
    "    subject_id = row['Subject ID']\n",
    "    note_clinical_id = row['Note ID']\n",
    "    diagnostics = row['Diagnostic Procedure']\n",
    "    diseases = row['Disease or Syndrome']\n",
    "    lab_results = row['Laboratory or Test Result']\n",
    "    sign_symptoms = row['Sign or Symptom']\n",
    "    drugs = row['Pharmacologic Substance']\n",
    "    \n",
    "    # Check if Patient node with subject_id already exists\n",
    "    subject_node = graph_re.nodes.match(\"Patient\", subject_id=subject_id).first()\n",
    "    if not subject_node:\n",
    "        subject_node = Node(\"Patient\", subject_id=subject_id)\n",
    "        graph_re.create(subject_node)\n",
    "    \n",
    "    note_node = Node(\"Note Clinical\", note_clinical_id=note_clinical_id)\n",
    "    graph_re.merge(note_node, \"Note Clinical\", \"note_clinical_id\")\n",
    "    relationship = Relationship(subject_node, \"PRESENT\", note_node)\n",
    "    graph_re.create(relationship)\n",
    "    \n",
    "    # Create and connect nodes for Diseases\n",
    "    if isinstance(diseases, str):\n",
    "        diseases = diseases.split(\", \")\n",
    "        for disease in diseases:\n",
    "            disease_node = Node(\"Disease or Syndrome\", name=disease)\n",
    "            graph_re.merge(disease_node, \"Disease or Syndrome\", \"name\")\n",
    "            relationship = Relationship(note_node, \"HAS_DISEASE\", disease_node)\n",
    "            graph_re.create(disease_node)\n",
    "            graph_re.create(relationship)\n",
    "            \n",
    "            # Create and connect nodes for Sign/Symptoms\n",
    "            if isinstance(sign_symptoms, str):\n",
    "                sign_symptoms_split = sign_symptoms.split(\", \")\n",
    "                for sign_symptom in sign_symptoms_split:\n",
    "                    sign_symptom_node = Node(\"Sign or Symptom\", name=sign_symptom)\n",
    "                    graph_re.merge(sign_symptom_node, \"Sign or Symptom\", \"name\")\n",
    "                    relationship = Relationship(sign_symptom_node, \"MAY_CAUSE\", disease_node)\n",
    "                    graph_re.create(sign_symptom_node)\n",
    "                    graph_re.create(relationship)\n",
    "            \n",
    "            # Create and connect nodes for Diagnostic Procedures\n",
    "            if isinstance(diagnostics, str):\n",
    "                diagnostics_split = diagnostics.split(\", \")\n",
    "                for diagnostic in diagnostics_split:\n",
    "                    diagnostic_node = Node(\"Diagnostic Procedure\", name=diagnostic)\n",
    "                    graph_re.merge(diagnostic_node, \"Diagnostic Procedure\", \"name\")\n",
    "                    relationship = Relationship(diagnostic_node, \"DIAGNOSTICS\", disease_node)\n",
    "                    graph_re.create(diagnostic_node)\n",
    "                    graph_re.create(relationship)\n",
    "            \n",
    "            # Create and connect nodes for Lab Results\n",
    "            if isinstance(lab_results, str):\n",
    "                lab_results_split = lab_results.split(\", \")\n",
    "                for lab_result in lab_results_split:\n",
    "                    lab_result_node = Node(\"Laboratory or Test Result\", name=lab_result)\n",
    "                    graph_re.merge(lab_result_node, \"Laboratory or Test Result\", \"name\")\n",
    "                    relationship = Relationship(lab_result_node, \"TESTS\", disease_node)\n",
    "                    graph_re.create(lab_result_node)\n",
    "                    graph_re.create(relationship)\n",
    "            \n",
    "            # Create and connect nodes for Pharmacologic Substance\n",
    "            if isinstance(drugs, str):\n",
    "                drugs_split = drugs.split(\", \")\n",
    "                for drug in drugs_split:\n",
    "                    drug_node = Node(\"Pharmacologic Substance\", name=drug)\n",
    "                    graph_re.merge(drug_node, \"Pharmacologic Substance\", \"name\")\n",
    "                    relationship = Relationship(drug_node, \"TREATS\", disease_node)\n",
    "                    graph_re.create(drug_node)\n",
    "                    graph_re.create(relationship)"
   ]
  }
 ],
 "metadata": {
  "kernelspec": {
   "display_name": "healthcare",
   "language": "python",
   "name": "python3"
  },
  "language_info": {
   "codemirror_mode": {
    "name": "ipython",
    "version": 3
   },
   "file_extension": ".py",
   "mimetype": "text/x-python",
   "name": "python",
   "nbconvert_exporter": "python",
   "pygments_lexer": "ipython3",
   "version": "3.10.9"
  },
  "orig_nbformat": 4
 },
 "nbformat": 4,
 "nbformat_minor": 2
}
